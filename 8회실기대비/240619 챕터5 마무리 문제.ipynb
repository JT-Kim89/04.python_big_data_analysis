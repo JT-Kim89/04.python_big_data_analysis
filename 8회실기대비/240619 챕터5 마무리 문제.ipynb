{
 "cells": [
  {
   "cell_type": "markdown",
   "id": "2123b004-4cb4-4a38-ad65-bd1ae41f1035",
   "metadata": {},
   "source": [
    "# 1. 작업형 제1유형"
   ]
  },
  {
   "cell_type": "markdown",
   "id": "89c30d01-bc95-49ac-b24f-5f7f0b53659f",
   "metadata": {},
   "source": [
    "## 1) Iris 데이터 세트"
   ]
  },
  {
   "cell_type": "markdown",
   "id": "3050b3a2-5aed-4d08-ae3b-7d04563b4d9d",
   "metadata": {},
   "source": [
    "### 01. Iris 데이터 세트에서 species 변수 값별로 petal_width 상위 25% 값을 구한 후, 가장 큰 값과 가장 작은 값 사이의 차이를 계산하시오."
   ]
  },
  {
   "cell_type": "code",
   "execution_count": 2,
   "id": "175ff602-ce56-44ec-a1b9-da1bc9b8fb30",
   "metadata": {},
   "outputs": [],
   "source": [
    "# 출력을 원할 경우 print() 함수 활용\n",
    "# 예시) print(df.head())\n",
    "\n",
    "# getcwd(), chdir() 등 작업 폴더 설정 불필요\n",
    "# 파일 경로 상 내부 드라이브 경로(C: 등) 접근 불가\n",
    "\n",
    "import pandas as pd\n",
    "\n",
    "df = pd.read_csv(\"data/datasets/Part2/iris.csv\")\n",
    "\n",
    "# 사용자 코딩\n",
    "\n",
    "# 해당 화면에서는 제출하지 않으며, 문제 풀이 후 답안제출에서 결괏값 제출"
   ]
  },
  {
   "cell_type": "code",
   "execution_count": 3,
   "id": "ab4b5d1d-55fd-40a2-b1c7-9bdcc32cf071",
   "metadata": {
    "scrolled": true
   },
   "outputs": [
    {
     "name": "stdout",
     "output_type": "stream",
     "text": [
      "   sepal_length  sepal_width  petal_length  petal_width species\n",
      "0           5.1          3.5           1.4          0.2  setosa\n",
      "1           4.9          3.0           1.4          0.2  setosa\n",
      "2           4.7          3.2           1.3          0.2  setosa\n",
      "3           4.6          3.1           1.5          0.2  setosa\n",
      "4           5.0          3.6           1.4          0.2  setosa\n"
     ]
    }
   ],
   "source": [
    "print(df.head())"
   ]
  },
  {
   "cell_type": "code",
   "execution_count": 4,
   "id": "d42714a9-132f-4bce-9623-321daafee695",
   "metadata": {},
   "outputs": [
    {
     "data": {
      "text/plain": [
       "array(['setosa', 'versicolor', 'virginica'], dtype=object)"
      ]
     },
     "execution_count": 4,
     "metadata": {},
     "output_type": "execute_result"
    }
   ],
   "source": [
    "df['species'].unique()"
   ]
  },
  {
   "cell_type": "code",
   "execution_count": 6,
   "id": "ad48b425-b81f-4536-bd00-03513d621642",
   "metadata": {},
   "outputs": [
    {
     "name": "stdout",
     "output_type": "stream",
     "text": [
      "       sepal_length  sepal_width  petal_length  petal_width\n",
      "count      50.00000    50.000000     50.000000    50.000000\n",
      "mean        5.00600     3.428000      1.462000     0.246000\n",
      "std         0.35249     0.379064      0.173664     0.105386\n",
      "min         4.30000     2.300000      1.000000     0.100000\n",
      "25%         4.80000     3.200000      1.400000     0.200000\n",
      "50%         5.00000     3.400000      1.500000     0.200000\n",
      "75%         5.20000     3.675000      1.575000     0.300000\n",
      "max         5.80000     4.400000      1.900000     0.600000\n"
     ]
    }
   ],
   "source": [
    "print(df[df['species'] == 'setosa'].describe())"
   ]
  },
  {
   "cell_type": "code",
   "execution_count": 7,
   "id": "8493c449-024c-4a48-843c-c0acc17c1e94",
   "metadata": {},
   "outputs": [
    {
     "name": "stdout",
     "output_type": "stream",
     "text": [
      "       sepal_length  sepal_width  petal_length  petal_width\n",
      "count     50.000000    50.000000     50.000000    50.000000\n",
      "mean       5.936000     2.770000      4.260000     1.326000\n",
      "std        0.516171     0.313798      0.469911     0.197753\n",
      "min        4.900000     2.000000      3.000000     1.000000\n",
      "25%        5.600000     2.525000      4.000000     1.200000\n",
      "50%        5.900000     2.800000      4.350000     1.300000\n",
      "75%        6.300000     3.000000      4.600000     1.500000\n",
      "max        7.000000     3.400000      5.100000     1.800000\n"
     ]
    }
   ],
   "source": [
    "print(df[df['species'] == 'versicolor'].describe())"
   ]
  },
  {
   "cell_type": "code",
   "execution_count": 8,
   "id": "dd0c43a6-59c3-4ddc-a2b0-787f84cb67f2",
   "metadata": {},
   "outputs": [
    {
     "name": "stdout",
     "output_type": "stream",
     "text": [
      "       sepal_length  sepal_width  petal_length  petal_width\n",
      "count      50.00000    50.000000     50.000000     50.00000\n",
      "mean        6.58800     2.974000      5.552000      2.02600\n",
      "std         0.63588     0.322497      0.551895      0.27465\n",
      "min         4.90000     2.200000      4.500000      1.40000\n",
      "25%         6.22500     2.800000      5.100000      1.80000\n",
      "50%         6.50000     3.000000      5.550000      2.00000\n",
      "75%         6.90000     3.175000      5.875000      2.30000\n",
      "max         7.90000     3.800000      6.900000      2.50000\n"
     ]
    }
   ],
   "source": [
    "print(df[df['species'] == 'virginica'].describe())"
   ]
  },
  {
   "cell_type": "code",
   "execution_count": 9,
   "id": "5703466d-9f38-412f-9ad4-4eb802434511",
   "metadata": {
    "scrolled": true
   },
   "outputs": [
    {
     "name": "stdout",
     "output_type": "stream",
     "text": [
      "1.6\n"
     ]
    }
   ],
   "source": [
    "ans = 1.8 - 0.2\n",
    "print(ans)"
   ]
  },
  {
   "cell_type": "code",
   "execution_count": 10,
   "id": "88a8dbb8-1708-462b-a74c-38ad78df8970",
   "metadata": {
    "scrolled": true
   },
   "outputs": [
    {
     "name": "stdout",
     "output_type": "stream",
     "text": [
      "1.9999999999999998\n"
     ]
    }
   ],
   "source": [
    "# 오답.. 상위 25% = describe의 75% \n",
    "ans = 2.3 - 0.3\n",
    "print(ans)"
   ]
  },
  {
   "cell_type": "code",
   "execution_count": 12,
   "id": "a4030118-bf6f-4cf9-b16c-23e3b1fde0f1",
   "metadata": {},
   "outputs": [
    {
     "name": "stdout",
     "output_type": "stream",
     "text": [
      "species         \n",
      "setosa      0.75    0.3\n",
      "versicolor  0.75    1.5\n",
      "virginica   0.75    2.3\n",
      "Name: petal_width, dtype: float64\n"
     ]
    }
   ],
   "source": [
    "# 답지 풀이\n",
    "ans = df.groupby('species')['petal_width'].quantile([0.75])\n",
    "print(ans)"
   ]
  },
  {
   "cell_type": "markdown",
   "id": "d4fb8877-2a81-418b-bdec-a0607206f31a",
   "metadata": {},
   "source": [
    "### 02. Iris 데이터 세트에서 sepal_length 변수의 전체 값들을 중복 없이 리스트로 만든 후, 오름차순으로 정렬했을 때 리스트의 10번째에 오는 숫자를 계산하시오."
   ]
  },
  {
   "cell_type": "code",
   "execution_count": 57,
   "id": "ce590468-b683-4be7-bfc7-a29d4ceb050e",
   "metadata": {},
   "outputs": [],
   "source": [
    "import numpy as np"
   ]
  },
  {
   "cell_type": "code",
   "execution_count": 60,
   "id": "1905b83b-51e7-47a9-83c0-7dc4d3601c2b",
   "metadata": {},
   "outputs": [
    {
     "name": "stdout",
     "output_type": "stream",
     "text": [
      "[4.3 4.4 4.5 4.6 4.7 4.8 4.9 5.  5.1 5.2 5.3 5.4 5.5 5.6 5.7 5.8 5.9 6.\n",
      " 6.1 6.2 6.3 6.4 6.5 6.6 6.7 6.8 6.9 7.  7.1 7.2 7.3 7.4 7.6 7.7 7.9]\n"
     ]
    }
   ],
   "source": [
    "list = df['sepal_length'].unique()\n",
    "list2 = np.sort(list)\n",
    "print(list2)"
   ]
  },
  {
   "cell_type": "code",
   "execution_count": 61,
   "id": "61cebc33-4413-4aac-bfae-c0197584ffec",
   "metadata": {},
   "outputs": [
    {
     "name": "stdout",
     "output_type": "stream",
     "text": [
      "6.8\n"
     ]
    }
   ],
   "source": [
    "ans = 6.8\n",
    "print(ans)"
   ]
  },
  {
   "cell_type": "code",
   "execution_count": 66,
   "id": "2f06a365-a87b-432b-81db-69f3debc9f63",
   "metadata": {},
   "outputs": [
    {
     "name": "stdout",
     "output_type": "stream",
     "text": [
      "5.2\n"
     ]
    }
   ],
   "source": [
    "# 오답.. 오름차순 = 밑에서 위로...\n",
    "ans = 5.2\n",
    "print(ans)"
   ]
  },
  {
   "cell_type": "code",
   "execution_count": 67,
   "id": "6055af33-447a-4b14-afe5-72ebec48f63e",
   "metadata": {},
   "outputs": [
    {
     "name": "stdout",
     "output_type": "stream",
     "text": [
      "5.2\n"
     ]
    }
   ],
   "source": [
    "# 답지 풀이\n",
    "lst = df['sepal_length'].unique().tolist()\n",
    "lst.sort()\n",
    "print(lst[9])"
   ]
  },
  {
   "cell_type": "markdown",
   "id": "5b2ba814-93a1-4abb-a497-ae5996ffe593",
   "metadata": {},
   "source": [
    "### 03. Iris 데이터 세트를"
   ]
  },
  {
   "cell_type": "code",
   "execution_count": null,
   "id": "e7f868d8-750e-493a-8eea-648f192bf6cf",
   "metadata": {},
   "outputs": [],
   "source": []
  },
  {
   "cell_type": "code",
   "execution_count": null,
   "id": "6621b349-4c36-4c5f-b7a8-7bbd9e4390da",
   "metadata": {},
   "outputs": [],
   "source": []
  },
  {
   "cell_type": "code",
   "execution_count": null,
   "id": "2e821cec-e52f-46e7-948b-396abc4520d2",
   "metadata": {},
   "outputs": [],
   "source": []
  },
  {
   "cell_type": "code",
   "execution_count": null,
   "id": "335c3408-6a15-4509-a173-40a8b1c97c7b",
   "metadata": {},
   "outputs": [],
   "source": []
  }
 ],
 "metadata": {
  "kernelspec": {
   "display_name": "Python 3 (ipykernel)",
   "language": "python",
   "name": "python3"
  },
  "language_info": {
   "codemirror_mode": {
    "name": "ipython",
    "version": 3
   },
   "file_extension": ".py",
   "mimetype": "text/x-python",
   "name": "python",
   "nbconvert_exporter": "python",
   "pygments_lexer": "ipython3",
   "version": "3.11.7"
  }
 },
 "nbformat": 4,
 "nbformat_minor": 5
}
