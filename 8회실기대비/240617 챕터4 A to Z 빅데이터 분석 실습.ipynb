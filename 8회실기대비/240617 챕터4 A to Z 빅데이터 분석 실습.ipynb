{
 "cells": [
  {
   "cell_type": "markdown",
   "id": "b3094eab-da45-4972-86bc-4fa25777794e",
   "metadata": {},
   "source": [
    "# 1. Motor Trend Car Road Tests"
   ]
  },
  {
   "cell_type": "markdown",
   "id": "34037980-ad4e-4c97-95fd-fca0e8beba99",
   "metadata": {},
   "source": [
    "## 1) 사전 준비"
   ]
  },
  {
   "cell_type": "code",
   "execution_count": 1,
   "id": "3206d5b2-c951-40a0-866d-d0450fcdae8b",
   "metadata": {},
   "outputs": [],
   "source": [
    "#412-02 패키지 불러오기\n",
    "import pandas as pd\n",
    "import numpy as np"
   ]
  },
  {
   "cell_type": "code",
   "execution_count": 18,
   "id": "2bc77568-a1d7-4839-ba58-5bc873f763e7",
   "metadata": {},
   "outputs": [],
   "source": [
    "#412-03 데이터 파일 읽기\n",
    "X_test = pd.read_csv(\"data/datasets/Part2/mpg_X_test.csv\")\n",
    "X_train = pd.read_csv(\"data/datasets/Part2/mpg_X_train.csv\")\n",
    "y_train = pd.read_csv(\"data/datasets/Part2/mpg_y_train.csv\")"
   ]
  },
  {
   "cell_type": "code",
   "execution_count": 13,
   "id": "e66ee8e6-befe-4998-badf-37d7e578645c",
   "metadata": {},
   "outputs": [
    {
     "name": "stdout",
     "output_type": "stream",
     "text": [
      "                           name   mpg  cylinders  displacement  horsepower  \\\n",
      "0    pontiac j2000 se hatchback  31.0          4         112.0        85.0   \n",
      "1           pontiac safari (sw)  13.0          8         400.0       175.0   \n",
      "2            mazda glc custom l  37.0          4          91.0        68.0   \n",
      "3      oldsmobile vista cruiser  12.0          8         350.0       180.0   \n",
      "4                   peugeot 504  19.0          4         120.0        88.0   \n",
      "..                          ...   ...        ...           ...         ...   \n",
      "273            honda civic cvcc  36.1          4          91.0        60.0   \n",
      "274                   subaru dl  30.0          4          97.0        67.0   \n",
      "275              dodge colt m/m  33.5          4          98.0        83.0   \n",
      "276                  ford pinto  18.0          6         171.0        97.0   \n",
      "277          amc ambassador sst  17.0          8         304.0       150.0   \n",
      "\n",
      "     weight  acceleration  model_year  \n",
      "0      2575          16.2          82  \n",
      "1      5140          12.0          71  \n",
      "2      2025          18.2          82  \n",
      "3      4499          12.5          73  \n",
      "4      3270          21.9          76  \n",
      "..      ...           ...         ...  \n",
      "273    1800          16.4          78  \n",
      "274    1985          16.4          77  \n",
      "275    2075          15.9          77  \n",
      "276    2984          14.5          75  \n",
      "277    3672          11.5          72  \n",
      "\n",
      "[278 rows x 8 columns]\n"
     ]
    }
   ],
   "source": [
    "print(X_train)"
   ]
  },
  {
   "cell_type": "markdown",
   "id": "dba602f3-0826-4da1-a290-2b7563fc37fe",
   "metadata": {},
   "source": [
    "## 2) 데이터 전처리"
   ]
  },
  {
   "cell_type": "code",
   "execution_count": 4,
   "id": "fbf4ea1a-351b-4a29-8dee-14f607578a1a",
   "metadata": {},
   "outputs": [
    {
     "name": "stdout",
     "output_type": "stream",
     "text": [
      "<class 'pandas.core.frame.DataFrame'>\n",
      "RangeIndex: 278 entries, 0 to 277\n",
      "Data columns (total 8 columns):\n",
      " #   Column        Non-Null Count  Dtype  \n",
      "---  ------        --------------  -----  \n",
      " 0   name          278 non-null    object \n",
      " 1   mpg           278 non-null    float64\n",
      " 2   cylinders     278 non-null    int64  \n",
      " 3   displacement  278 non-null    float64\n",
      " 4   horsepower    274 non-null    float64\n",
      " 5   weight        278 non-null    int64  \n",
      " 6   acceleration  278 non-null    float64\n",
      " 7   model_year    278 non-null    int64  \n",
      "dtypes: float64(4), int64(3), object(1)\n",
      "memory usage: 17.5+ KB\n",
      "None\n"
     ]
    }
   ],
   "source": [
    "#413-01 데이터 기본 정보 확인 : 칼럼명, 칼럼수, 결측치, 데이터타입\n",
    "print(X_train.info())"
   ]
  },
  {
   "cell_type": "code",
   "execution_count": 5,
   "id": "84e69dfd-da57-4df3-bdfb-bd4580fab366",
   "metadata": {},
   "outputs": [
    {
     "name": "stdout",
     "output_type": "stream",
     "text": [
      "<class 'pandas.core.frame.DataFrame'>\n",
      "RangeIndex: 120 entries, 0 to 119\n",
      "Data columns (total 8 columns):\n",
      " #   Column        Non-Null Count  Dtype  \n",
      "---  ------        --------------  -----  \n",
      " 0   name          120 non-null    object \n",
      " 1   mpg           120 non-null    float64\n",
      " 2   cylinders     120 non-null    int64  \n",
      " 3   displacement  120 non-null    float64\n",
      " 4   horsepower    118 non-null    float64\n",
      " 5   weight        120 non-null    int64  \n",
      " 6   acceleration  120 non-null    float64\n",
      " 7   model_year    120 non-null    int64  \n",
      "dtypes: float64(4), int64(3), object(1)\n",
      "memory usage: 7.6+ KB\n",
      "None\n"
     ]
    }
   ],
   "source": [
    "print(X_test.info())"
   ]
  },
  {
   "cell_type": "code",
   "execution_count": 6,
   "id": "0de3ccdc-f232-442c-b280-728112921d44",
   "metadata": {},
   "outputs": [
    {
     "name": "stdout",
     "output_type": "stream",
     "text": [
      "<class 'pandas.core.frame.DataFrame'>\n",
      "RangeIndex: 278 entries, 0 to 277\n",
      "Data columns (total 1 columns):\n",
      " #   Column  Non-Null Count  Dtype\n",
      "---  ------  --------------  -----\n",
      " 0   isUSA   278 non-null    int64\n",
      "dtypes: int64(1)\n",
      "memory usage: 2.3 KB\n",
      "None\n"
     ]
    }
   ],
   "source": [
    "print(y_train.info())"
   ]
  },
  {
   "cell_type": "code",
   "execution_count": 19,
   "id": "54ca8bda-3581-43b0-8eb9-e9c6c885bcb2",
   "metadata": {},
   "outputs": [],
   "source": [
    "#413-02 결측치 처리 : 평균값 채우기\n",
    "from sklearn.impute import SimpleImputer\n",
    "imputer = SimpleImputer(missing_values = np.nan, strategy = 'mean')\n",
    "X_train[['horsepower']] = imputer.fit_transform(X_train[['horsepower']])\n",
    "X_test[['horsepower']] = imputer.fit_transform(X_test[['horsepower']])"
   ]
  },
  {
   "cell_type": "code",
   "execution_count": 9,
   "id": "e74f31e0-c113-4166-b3fb-c6c5414c7a80",
   "metadata": {},
   "outputs": [
    {
     "name": "stdout",
     "output_type": "stream",
     "text": [
      "              mpg   cylinders  displacement  horsepower       weight  \\\n",
      "count  278.000000  278.000000    278.000000  278.000000   278.000000   \n",
      "mean    23.732734    5.374101    189.994604  103.383212  2948.464029   \n",
      "std      7.647295    1.677084    105.471423   38.695458   862.949746   \n",
      "min     10.000000    3.000000     68.000000   46.000000  1613.000000   \n",
      "25%     18.000000    4.000000     98.000000   75.000000  2206.250000   \n",
      "50%     23.000000    4.000000    140.500000   90.500000  2737.500000   \n",
      "75%     29.000000    6.000000    258.000000  118.750000  3560.000000   \n",
      "max     46.600000    8.000000    455.000000  230.000000  5140.000000   \n",
      "\n",
      "       acceleration  model_year  \n",
      "count    278.000000  278.000000  \n",
      "mean      15.580216   76.057554  \n",
      "std        2.745907    3.605591  \n",
      "min        8.000000   70.000000  \n",
      "25%       14.000000   73.000000  \n",
      "50%       15.500000   76.000000  \n",
      "75%       17.000000   79.000000  \n",
      "max       24.800000   82.000000  \n"
     ]
    }
   ],
   "source": [
    "#413-03 통계 확인 : 이상치 유무 확인\n",
    "print(X_train.describe())"
   ]
  },
  {
   "cell_type": "code",
   "execution_count": 20,
   "id": "235c41fa-8e8d-44c8-a241-3747809266b9",
   "metadata": {},
   "outputs": [
    {
     "name": "stdout",
     "output_type": "stream",
     "text": [
      "      mpg  cylinders  displacement  horsepower  weight  acceleration  \\\n",
      "0    31.0          4         112.0        85.0    2575          16.2   \n",
      "1    13.0          8         400.0       175.0    5140          12.0   \n",
      "2    37.0          4          91.0        68.0    2025          18.2   \n",
      "3    12.0          8         350.0       180.0    4499          12.5   \n",
      "4    19.0          4         120.0        88.0    3270          21.9   \n",
      "..    ...        ...           ...         ...     ...           ...   \n",
      "273  36.1          4          91.0        60.0    1800          16.4   \n",
      "274  30.0          4          97.0        67.0    1985          16.4   \n",
      "275  33.5          4          98.0        83.0    2075          15.9   \n",
      "276  18.0          6         171.0        97.0    2984          14.5   \n",
      "277  17.0          8         304.0       150.0    3672          11.5   \n",
      "\n",
      "     model_year  \n",
      "0            82  \n",
      "1            71  \n",
      "2            82  \n",
      "3            73  \n",
      "4            76  \n",
      "..          ...  \n",
      "273          78  \n",
      "274          77  \n",
      "275          77  \n",
      "276          75  \n",
      "277          72  \n",
      "\n",
      "[278 rows x 7 columns]\n"
     ]
    }
   ],
   "source": [
    "#413-04 칼럼, 데이터 분류 (문자 / 숫자)\n",
    "COL_DEL = ['name']\n",
    "COL_NUM = ['mpg', 'cylinders', 'displacement', 'horsepower', 'weight', 'acceleration', 'model_year']\n",
    "COL_CAT = []\n",
    "COL_Y = ['isUSA']\n",
    "\n",
    "X_train = X_train.iloc[ : , 1 : ]   # name을 제외한 숫자로만 구성\n",
    "X_test = X_test.iloc[ : , 1 : ]     # name을 제외한 숫자로만 구성\n",
    "print(X_train)"
   ]
  },
  {
   "cell_type": "markdown",
   "id": "291caede-4706-462f-be97-bba635a09428",
   "metadata": {},
   "source": [
    "## 3) 데이터 모형 구축"
   ]
  },
  {
   "cell_type": "code",
   "execution_count": 21,
   "id": "221d89e5-3f01-4e87-a14b-e1ce04f94add",
   "metadata": {},
   "outputs": [],
   "source": [
    "# 414-01 데이터 분할\n",
    "from sklearn.model_selection import train_test_split\n",
    "X_tr, X_val, y_tr, y_val = train_test_split(X_train, y_train, test_size = 0.3)"
   ]
  },
  {
   "cell_type": "code",
   "execution_count": 23,
   "id": "2d909ed3-722c-4964-93b4-e9311f19e327",
   "metadata": {},
   "outputs": [],
   "source": [
    "# 414-02 데이터 스케일링\n",
    "from sklearn.preprocessing import StandardScaler\n",
    "scaler = StandardScaler()\n",
    "scaler.fit(X_tr[COL_NUM])  # 훈련 데이터로만 스케일링 한다.\n",
    "X_tr[COL_NUM] = scaler.transform(X_tr[COL_NUM])\n",
    "X_val[COL_NUM] = scaler.transform(X_val[COL_NUM])\n",
    "X_test[COL_NUM] = scaler.transform(X_test[COL_NUM])"
   ]
  },
  {
   "cell_type": "code",
   "execution_count": 28,
   "id": "39f22f4a-b940-4008-8b3b-1ee341ae4993",
   "metadata": {},
   "outputs": [
    {
     "name": "stderr",
     "output_type": "stream",
     "text": [
      "C:\\Users\\jtkim\\AppData\\Local\\Temp\\ipykernel_13232\\1711841285.py:4: DataConversionWarning: A column-vector y was passed when a 1d array was expected. Please change the shape of y to (n_samples,), for example using ravel().\n",
      "  model_rfc.fit(X_tr, y_tr)\n"
     ]
    },
    {
     "data": {
      "text/html": [
       "<style>#sk-container-id-2 {color: black;background-color: white;}#sk-container-id-2 pre{padding: 0;}#sk-container-id-2 div.sk-toggleable {background-color: white;}#sk-container-id-2 label.sk-toggleable__label {cursor: pointer;display: block;width: 100%;margin-bottom: 0;padding: 0.3em;box-sizing: border-box;text-align: center;}#sk-container-id-2 label.sk-toggleable__label-arrow:before {content: \"▸\";float: left;margin-right: 0.25em;color: #696969;}#sk-container-id-2 label.sk-toggleable__label-arrow:hover:before {color: black;}#sk-container-id-2 div.sk-estimator:hover label.sk-toggleable__label-arrow:before {color: black;}#sk-container-id-2 div.sk-toggleable__content {max-height: 0;max-width: 0;overflow: hidden;text-align: left;background-color: #f0f8ff;}#sk-container-id-2 div.sk-toggleable__content pre {margin: 0.2em;color: black;border-radius: 0.25em;background-color: #f0f8ff;}#sk-container-id-2 input.sk-toggleable__control:checked~div.sk-toggleable__content {max-height: 200px;max-width: 100%;overflow: auto;}#sk-container-id-2 input.sk-toggleable__control:checked~label.sk-toggleable__label-arrow:before {content: \"▾\";}#sk-container-id-2 div.sk-estimator input.sk-toggleable__control:checked~label.sk-toggleable__label {background-color: #d4ebff;}#sk-container-id-2 div.sk-label input.sk-toggleable__control:checked~label.sk-toggleable__label {background-color: #d4ebff;}#sk-container-id-2 input.sk-hidden--visually {border: 0;clip: rect(1px 1px 1px 1px);clip: rect(1px, 1px, 1px, 1px);height: 1px;margin: -1px;overflow: hidden;padding: 0;position: absolute;width: 1px;}#sk-container-id-2 div.sk-estimator {font-family: monospace;background-color: #f0f8ff;border: 1px dotted black;border-radius: 0.25em;box-sizing: border-box;margin-bottom: 0.5em;}#sk-container-id-2 div.sk-estimator:hover {background-color: #d4ebff;}#sk-container-id-2 div.sk-parallel-item::after {content: \"\";width: 100%;border-bottom: 1px solid gray;flex-grow: 1;}#sk-container-id-2 div.sk-label:hover label.sk-toggleable__label {background-color: #d4ebff;}#sk-container-id-2 div.sk-serial::before {content: \"\";position: absolute;border-left: 1px solid gray;box-sizing: border-box;top: 0;bottom: 0;left: 50%;z-index: 0;}#sk-container-id-2 div.sk-serial {display: flex;flex-direction: column;align-items: center;background-color: white;padding-right: 0.2em;padding-left: 0.2em;position: relative;}#sk-container-id-2 div.sk-item {position: relative;z-index: 1;}#sk-container-id-2 div.sk-parallel {display: flex;align-items: stretch;justify-content: center;background-color: white;position: relative;}#sk-container-id-2 div.sk-item::before, #sk-container-id-2 div.sk-parallel-item::before {content: \"\";position: absolute;border-left: 1px solid gray;box-sizing: border-box;top: 0;bottom: 0;left: 50%;z-index: -1;}#sk-container-id-2 div.sk-parallel-item {display: flex;flex-direction: column;z-index: 1;position: relative;background-color: white;}#sk-container-id-2 div.sk-parallel-item:first-child::after {align-self: flex-end;width: 50%;}#sk-container-id-2 div.sk-parallel-item:last-child::after {align-self: flex-start;width: 50%;}#sk-container-id-2 div.sk-parallel-item:only-child::after {width: 0;}#sk-container-id-2 div.sk-dashed-wrapped {border: 1px dashed gray;margin: 0 0.4em 0.5em 0.4em;box-sizing: border-box;padding-bottom: 0.4em;background-color: white;}#sk-container-id-2 div.sk-label label {font-family: monospace;font-weight: bold;display: inline-block;line-height: 1.2em;}#sk-container-id-2 div.sk-label-container {text-align: center;}#sk-container-id-2 div.sk-container {/* jupyter's `normalize.less` sets `[hidden] { display: none; }` but bootstrap.min.css set `[hidden] { display: none !important; }` so we also need the `!important` here to be able to override the default hidden behavior on the sphinx rendered scikit-learn.org. See: https://github.com/scikit-learn/scikit-learn/issues/21755 */display: inline-block !important;position: relative;}#sk-container-id-2 div.sk-text-repr-fallback {display: none;}</style><div id=\"sk-container-id-2\" class=\"sk-top-container\"><div class=\"sk-text-repr-fallback\"><pre>RandomForestClassifier()</pre><b>In a Jupyter environment, please rerun this cell to show the HTML representation or trust the notebook. <br />On GitHub, the HTML representation is unable to render, please try loading this page with nbviewer.org.</b></div><div class=\"sk-container\" hidden><div class=\"sk-item\"><div class=\"sk-estimator sk-toggleable\"><input class=\"sk-toggleable__control sk-hidden--visually\" id=\"sk-estimator-id-2\" type=\"checkbox\" checked><label for=\"sk-estimator-id-2\" class=\"sk-toggleable__label sk-toggleable__label-arrow\">RandomForestClassifier</label><div class=\"sk-toggleable__content\"><pre>RandomForestClassifier()</pre></div></div></div></div></div>"
      ],
      "text/plain": [
       "RandomForestClassifier()"
      ]
     },
     "execution_count": 28,
     "metadata": {},
     "output_type": "execute_result"
    }
   ],
   "source": [
    "# 414-03 모델 학습 : 시험에는 랜덤포레스트만 쓰자\n",
    "from sklearn.ensemble import RandomForestClassifier\n",
    "model_rfc = RandomForestClassifier()\n",
    "model_rfc.fit(X_tr, y_tr)"
   ]
  },
  {
   "cell_type": "markdown",
   "id": "632dc37b-cd41-4123-95d3-da4f605fd26b",
   "metadata": {},
   "source": [
    "## 4) 데이터 모형 평가"
   ]
  },
  {
   "cell_type": "code",
   "execution_count": 29,
   "id": "808e65d6-faf0-44b8-85f9-b3b62aba2695",
   "metadata": {},
   "outputs": [],
   "source": [
    "# 415-01 예측값, 예측확률 계산\n",
    "y_val_pred = model_rfc.predict(X_val)\n",
    "y_val_pred_proba_rfc = model_rfc.predict_proba(X_val)"
   ]
  },
  {
   "cell_type": "code",
   "execution_count": 30,
   "id": "0dd2f22a-7ff6-492a-bd3e-01805bca68f2",
   "metadata": {},
   "outputs": [
    {
     "name": "stdout",
     "output_type": "stream",
     "text": [
      "0.9498197115384615\n"
     ]
    }
   ],
   "source": [
    "# 415-02 AUROC 점수 계산\n",
    "from sklearn.metrics import roc_auc_score\n",
    "score_rfc = roc_auc_score(y_val, y_val_pred_proba_rfc[:, 1])\n",
    "print(score_rfc)"
   ]
  },
  {
   "cell_type": "code",
   "execution_count": 38,
   "id": "8578c68e-8fb5-4f15-b56a-42b3801aaa4d",
   "metadata": {
    "scrolled": true
   },
   "outputs": [
    {
     "name": "stdout",
     "output_type": "stream",
     "text": [
      "[[0.97 0.03]\n",
      " [0.   1.  ]\n",
      " [0.01 0.99]\n",
      " [0.   1.  ]\n",
      " [0.05 0.95]\n",
      " [0.51 0.49]\n",
      " [0.9  0.1 ]\n",
      " [0.   1.  ]\n",
      " [0.   1.  ]\n",
      " [0.93 0.07]\n",
      " [0.08 0.92]\n",
      " [0.07 0.93]\n",
      " [0.24 0.76]\n",
      " [0.11 0.89]\n",
      " [0.53 0.47]\n",
      " [0.73 0.27]\n",
      " [0.42 0.58]\n",
      " [0.84 0.16]\n",
      " [0.05 0.95]\n",
      " [0.77 0.23]\n",
      " [0.32 0.68]\n",
      " [0.01 0.99]\n",
      " [0.   1.  ]\n",
      " [0.82 0.18]\n",
      " [0.   1.  ]\n",
      " [0.   1.  ]\n",
      " [0.73 0.27]\n",
      " [0.49 0.51]\n",
      " [0.01 0.99]\n",
      " [0.35 0.65]\n",
      " [0.99 0.01]\n",
      " [0.05 0.95]\n",
      " [0.83 0.17]\n",
      " [0.   1.  ]\n",
      " [0.12 0.88]\n",
      " [0.   1.  ]\n",
      " [0.   1.  ]\n",
      " [0.8  0.2 ]\n",
      " [0.01 0.99]\n",
      " [0.   1.  ]\n",
      " [0.51 0.49]\n",
      " [0.7  0.3 ]\n",
      " [0.3  0.7 ]\n",
      " [0.   1.  ]\n",
      " [0.27 0.73]\n",
      " [0.82 0.18]\n",
      " [0.73 0.27]\n",
      " [0.91 0.09]\n",
      " [0.   1.  ]\n",
      " [0.   1.  ]\n",
      " [0.8  0.2 ]\n",
      " [0.39 0.61]\n",
      " [0.   1.  ]\n",
      " [0.   1.  ]\n",
      " [0.15 0.85]\n",
      " [0.44 0.56]\n",
      " [0.82 0.18]\n",
      " [0.9  0.1 ]\n",
      " [0.53 0.47]\n",
      " [0.47 0.53]\n",
      " [0.77 0.23]\n",
      " [0.83 0.17]\n",
      " [0.   1.  ]\n",
      " [0.74 0.26]\n",
      " [0.79 0.21]\n",
      " [0.69 0.31]\n",
      " [0.1  0.9 ]\n",
      " [0.85 0.15]\n",
      " [0.   1.  ]\n",
      " [0.9  0.1 ]\n",
      " [0.06 0.94]\n",
      " [0.54 0.46]\n",
      " [0.09 0.91]\n",
      " [0.17 0.83]\n",
      " [0.73 0.27]\n",
      " [0.   1.  ]\n",
      " [0.9  0.1 ]\n",
      " [0.   1.  ]\n",
      " [0.75 0.25]\n",
      " [0.   1.  ]\n",
      " [0.93 0.07]\n",
      " [0.87 0.13]\n",
      " [0.93 0.07]\n",
      " [0.93 0.07]]\n"
     ]
    }
   ],
   "source": [
    "# 415-04 최종 데이터 확인\n",
    "print(y_val_pred_proba_rfc) # 0 : 타지역 / 1 : 미국 -> 두 번째 줄이 추출할 확률"
   ]
  },
  {
   "cell_type": "code",
   "execution_count": 37,
   "id": "84234c23-9cfc-4c77-a3f4-8ec27a58967e",
   "metadata": {},
   "outputs": [
    {
     "name": "stdout",
     "output_type": "stream",
     "text": [
      "[0.03 1.   0.99 1.   0.95 0.49 0.1  1.   1.   0.07 0.92 0.93 0.76 0.89\n",
      " 0.47 0.27 0.58 0.16 0.95 0.23 0.68 0.99 1.   0.18 1.   1.   0.27 0.51\n",
      " 0.99 0.65 0.01 0.95 0.17 1.   0.88 1.   1.   0.2  0.99 1.   0.49 0.3\n",
      " 0.7  1.   0.73 0.18 0.27 0.09 1.   1.   0.2  0.61 1.   1.   0.85 0.56\n",
      " 0.18 0.1  0.47 0.53 0.23 0.17 1.   0.26 0.21 0.31 0.9  0.15 1.   0.1\n",
      " 0.94 0.46 0.91 0.83 0.27 1.   0.1  1.   0.25 1.   0.07 0.13 0.07 0.07]\n"
     ]
    }
   ],
   "source": [
    "# 415-05 저장할 데이터 확인\n",
    "pred = y_val_pred_proba_rfc[:, 1]\n",
    "print(pred)"
   ]
  },
  {
   "cell_type": "code",
   "execution_count": 40,
   "id": "fb4b104b-d5c7-432b-a86a-5aa1460f2e89",
   "metadata": {},
   "outputs": [],
   "source": [
    "# 416-06 csv 파일 저장하기\n",
    "pd.DataFrame({'isUSA': pred}).to_csv('example1.csv', index = False)"
   ]
  },
  {
   "cell_type": "markdown",
   "id": "175edee8-ad8e-4e21-b15b-260c2a4c5bd0",
   "metadata": {},
   "source": [
    "# 2. Penguins"
   ]
  },
  {
   "cell_type": "markdown",
   "id": "d3aa8815-e47e-4e95-aed4-f95689d054a3",
   "metadata": {},
   "source": [
    "## 1) 사전 준비"
   ]
  },
  {
   "cell_type": "code",
   "execution_count": 42,
   "id": "51267bd7-e7bd-4c5b-8b6e-f06527cb9b69",
   "metadata": {},
   "outputs": [],
   "source": [
    "import pandas as pd\n",
    "import numpy as np\n",
    "import warnings\n",
    "warnings.filterwarnings('ignore')"
   ]
  },
  {
   "cell_type": "code",
   "execution_count": 43,
   "id": "9959341a-991d-4387-a7c2-723803d42182",
   "metadata": {},
   "outputs": [],
   "source": [
    "X_test = pd.read_csv(\"data/datasets/Part2/penguin_X_test.csv\")\n",
    "X_train = pd.read_csv(\"data/datasets/Part2/penguin_X_train.csv\")\n",
    "y_train = pd.read_csv(\"data/datasets/Part2/penguin_y_train.csv\")"
   ]
  },
  {
   "cell_type": "markdown",
   "id": "938b1c26-2a77-4cfc-874d-d184fd3bca11",
   "metadata": {},
   "source": [
    "## 2) 데이터 전처리"
   ]
  },
  {
   "cell_type": "code",
   "execution_count": 44,
   "id": "5d2b2aa3-dc33-4f39-b8d5-894df25a1fe0",
   "metadata": {},
   "outputs": [
    {
     "name": "stdout",
     "output_type": "stream",
     "text": [
      "       species     island     sex  bill_length_mm  bill_depth_mm  \\\n",
      "0       Adelie  Torgersen     NaN            42.0           20.2   \n",
      "1       Gentoo     Biscoe  FEMALE            43.5           15.2   \n",
      "2       Adelie  Torgersen    MALE            42.8           18.5   \n",
      "3    Chinstrap      Dream    MALE            53.5           19.9   \n",
      "4       Gentoo     Biscoe    MALE            50.2           14.3   \n",
      "..         ...        ...     ...             ...            ...   \n",
      "235  Chinstrap      Dream  FEMALE            46.6           17.8   \n",
      "236     Gentoo     Biscoe    MALE            49.8           15.9   \n",
      "237     Adelie  Torgersen  FEMALE            34.6           17.2   \n",
      "238  Chinstrap      Dream  FEMALE            45.9           17.1   \n",
      "239     Gentoo     Biscoe  FEMALE            41.7           14.7   \n",
      "\n",
      "     flipper_length_mm  \n",
      "0                190.0  \n",
      "1                213.0  \n",
      "2                195.0  \n",
      "3                205.0  \n",
      "4                218.0  \n",
      "..                 ...  \n",
      "235              193.0  \n",
      "236              229.0  \n",
      "237              189.0  \n",
      "238              190.0  \n",
      "239              210.0  \n",
      "\n",
      "[240 rows x 6 columns]\n"
     ]
    }
   ],
   "source": [
    "print(X_train)"
   ]
  },
  {
   "cell_type": "code",
   "execution_count": 45,
   "id": "b6461fde-f84e-4efc-b0c8-ee6998377e3c",
   "metadata": {},
   "outputs": [
    {
     "name": "stdout",
     "output_type": "stream",
     "text": [
      "<class 'pandas.core.frame.DataFrame'>\n",
      "RangeIndex: 240 entries, 0 to 239\n",
      "Data columns (total 6 columns):\n",
      " #   Column             Non-Null Count  Dtype  \n",
      "---  ------             --------------  -----  \n",
      " 0   species            240 non-null    object \n",
      " 1   island             240 non-null    object \n",
      " 2   sex                232 non-null    object \n",
      " 3   bill_length_mm     238 non-null    float64\n",
      " 4   bill_depth_mm      238 non-null    float64\n",
      " 5   flipper_length_mm  238 non-null    float64\n",
      "dtypes: float64(3), object(3)\n",
      "memory usage: 11.4+ KB\n",
      "None\n"
     ]
    }
   ],
   "source": [
    "print(X_train.info())"
   ]
  },
  {
   "cell_type": "code",
   "execution_count": 46,
   "id": "9c12f780-2c27-4898-8e23-b5b84a318416",
   "metadata": {},
   "outputs": [
    {
     "name": "stdout",
     "output_type": "stream",
     "text": [
      "<class 'pandas.core.frame.DataFrame'>\n",
      "RangeIndex: 240 entries, 0 to 239\n",
      "Data columns (total 1 columns):\n",
      " #   Column       Non-Null Count  Dtype  \n",
      "---  ------       --------------  -----  \n",
      " 0   body_mass_g  238 non-null    float64\n",
      "dtypes: float64(1)\n",
      "memory usage: 2.0 KB\n",
      "None\n"
     ]
    }
   ],
   "source": [
    "print(y_train.info())"
   ]
  },
  {
   "cell_type": "code",
   "execution_count": 47,
   "id": "7d249a7a-ce41-4ddf-91f9-a5312af6e3ea",
   "metadata": {},
   "outputs": [
    {
     "name": "stdout",
     "output_type": "stream",
     "text": [
      "<class 'pandas.core.frame.DataFrame'>\n",
      "RangeIndex: 101 entries, 0 to 100\n",
      "Data columns (total 6 columns):\n",
      " #   Column             Non-Null Count  Dtype  \n",
      "---  ------             --------------  -----  \n",
      " 0   species            101 non-null    object \n",
      " 1   island             101 non-null    object \n",
      " 2   sex                101 non-null    object \n",
      " 3   bill_length_mm     101 non-null    float64\n",
      " 4   bill_depth_mm      101 non-null    float64\n",
      " 5   flipper_length_mm  101 non-null    float64\n",
      "dtypes: float64(3), object(3)\n",
      "memory usage: 4.9+ KB\n",
      "None\n"
     ]
    }
   ],
   "source": [
    "print(X_test.info())"
   ]
  },
  {
   "cell_type": "code",
   "execution_count": 48,
   "id": "7128a610-8d2b-4c3b-b854-51004542a077",
   "metadata": {},
   "outputs": [
    {
     "name": "stdout",
     "output_type": "stream",
     "text": [
      "    species     island  sex  bill_length_mm  bill_depth_mm  flipper_length_mm  \\\n",
      "0    Adelie  Torgersen  NaN            42.0           20.2              190.0   \n",
      "6    Gentoo     Biscoe  NaN            44.5           14.3              216.0   \n",
      "43   Gentoo     Biscoe  NaN             NaN            NaN                NaN   \n",
      "66   Adelie  Torgersen  NaN            37.8           17.3              180.0   \n",
      "88   Gentoo     Biscoe  NaN            47.3           13.8              216.0   \n",
      "89   Adelie  Torgersen  NaN            37.8           17.1              186.0   \n",
      "110  Gentoo     Biscoe  NaN            44.5           15.7              217.0   \n",
      "229  Adelie  Torgersen  NaN             NaN            NaN                NaN   \n",
      "\n",
      "     body_mass_g  \n",
      "0         4250.0  \n",
      "6         4100.0  \n",
      "43           NaN  \n",
      "66        3700.0  \n",
      "88        4725.0  \n",
      "89        3300.0  \n",
      "110       4875.0  \n",
      "229          NaN  \n"
     ]
    }
   ],
   "source": [
    "train = pd.concat([X_train, y_train], axis=1)\n",
    "print(train.loc[(train.sex.isna() | train.bill_length_mm.isna() | train.bill_depth_mm.isna() | train.flipper_length_mm.isna() | train.body_mass_g.isna())]) "
   ]
  },
  {
   "cell_type": "code",
   "execution_count": 49,
   "id": "40f962e6-025c-4d70-85a4-b217210ac4cf",
   "metadata": {},
   "outputs": [],
   "source": [
    "train = train.dropna()\n",
    "train.reset_index(drop=True, inplace=True)"
   ]
  },
  {
   "cell_type": "code",
   "execution_count": 50,
   "id": "be6b2215-91a2-4120-b33f-68f6a52ac710",
   "metadata": {},
   "outputs": [],
   "source": [
    "X_train = train[['species', 'island', 'sex', 'bill_length_mm', 'bill_depth_mm', 'flipper_length_mm']]\n",
    "y_train = train[['body_mass_g']]"
   ]
  },
  {
   "cell_type": "code",
   "execution_count": 51,
   "id": "737fb926-0add-44e3-a782-4c6ca0cfba84",
   "metadata": {},
   "outputs": [
    {
     "name": "stdout",
     "output_type": "stream",
     "text": [
      "       bill_length_mm  bill_depth_mm  flipper_length_mm\n",
      "count      232.000000     232.000000         232.000000\n",
      "mean        43.990948      17.226293         200.681034\n",
      "std          5.509760       1.964677          14.064231\n",
      "min         32.100000      13.200000         172.000000\n",
      "25%         39.200000      15.700000         190.000000\n",
      "50%         44.950000      17.350000         197.000000\n",
      "75%         48.775000      18.725000         212.250000\n",
      "max         58.000000      21.500000         231.000000\n"
     ]
    }
   ],
   "source": [
    "print(X_train.describe())"
   ]
  },
  {
   "cell_type": "code",
   "execution_count": 52,
   "id": "76da6403-7c7d-412d-9312-e20caf5e83ca",
   "metadata": {},
   "outputs": [],
   "source": [
    "COL_DEL = []\n",
    "COL_NUM = ['bill_length_mm', 'bill_depth_mm', 'flipper_length_mm']\n",
    "COL_CAT = ['species', 'island', 'sex']\n",
    "COL_Y = ['body_mass_g']"
   ]
  },
  {
   "cell_type": "code",
   "execution_count": 55,
   "id": "8b543c51-9867-4023-ad26-cc2c2f061395",
   "metadata": {},
   "outputs": [],
   "source": [
    "X = pd.concat([X_train, X_test])\n",
    "\n",
    "from sklearn.preprocessing import OneHotEncoder\n",
    "ohe = OneHotEncoder(handle_unknown = 'ignore')\n",
    "ohe.fit(X[COL_CAT])\n",
    "\n",
    "X_train_res = ohe.transform(X_train[COL_CAT])\n",
    "X_test_res = ohe.transform(X_test[COL_CAT])"
   ]
  },
  {
   "cell_type": "code",
   "execution_count": 56,
   "id": "a315f0e3-b4ff-4489-8333-30ca4f277ac4",
   "metadata": {},
   "outputs": [
    {
     "name": "stdout",
     "output_type": "stream",
     "text": [
      "  (0, 2)\t1.0\n",
      "  (0, 3)\t1.0\n",
      "  (0, 6)\t1.0\n",
      "  (1, 0)\t1.0\n",
      "  (1, 5)\t1.0\n",
      "  (1, 7)\t1.0\n",
      "  (2, 1)\t1.0\n",
      "  (2, 4)\t1.0\n",
      "  (2, 7)\t1.0\n",
      "  (3, 2)\t1.0\n",
      "  (3, 3)\t1.0\n",
      "  (3, 7)\t1.0\n",
      "  (4, 0)\t1.0\n",
      "  (4, 4)\t1.0\n",
      "  (4, 6)\t1.0\n",
      "  (5, 2)\t1.0\n",
      "  (5, 3)\t1.0\n",
      "  (5, 7)\t1.0\n",
      "  (6, 2)\t1.0\n",
      "  (6, 3)\t1.0\n",
      "  (6, 6)\t1.0\n",
      "  (7, 0)\t1.0\n",
      "  (7, 5)\t1.0\n",
      "  (7, 6)\t1.0\n",
      "  (8, 2)\t1.0\n",
      "  :\t:\n",
      "  (223, 6)\t1.0\n",
      "  (224, 2)\t1.0\n",
      "  (224, 3)\t1.0\n",
      "  (224, 7)\t1.0\n",
      "  (225, 0)\t1.0\n",
      "  (225, 4)\t1.0\n",
      "  (225, 7)\t1.0\n",
      "  (226, 1)\t1.0\n",
      "  (226, 4)\t1.0\n",
      "  (226, 7)\t1.0\n",
      "  (227, 1)\t1.0\n",
      "  (227, 4)\t1.0\n",
      "  (227, 6)\t1.0\n",
      "  (228, 2)\t1.0\n",
      "  (228, 3)\t1.0\n",
      "  (228, 7)\t1.0\n",
      "  (229, 0)\t1.0\n",
      "  (229, 5)\t1.0\n",
      "  (229, 6)\t1.0\n",
      "  (230, 1)\t1.0\n",
      "  (230, 4)\t1.0\n",
      "  (230, 6)\t1.0\n",
      "  (231, 2)\t1.0\n",
      "  (231, 3)\t1.0\n",
      "  (231, 6)\t1.0\n"
     ]
    }
   ],
   "source": [
    "print(X_train_res)"
   ]
  },
  {
   "cell_type": "code",
   "execution_count": 60,
   "id": "52ad86cf-e28d-4e6b-b92b-cf54d930d4dc",
   "metadata": {},
   "outputs": [
    {
     "name": "stdout",
     "output_type": "stream",
     "text": [
      "     species_Adelie  species_Chinstrap  species_Gentoo  island_Biscoe  \\\n",
      "0               0.0                0.0             1.0            1.0   \n",
      "1               1.0                0.0             0.0            0.0   \n",
      "2               0.0                1.0             0.0            0.0   \n",
      "3               0.0                0.0             1.0            1.0   \n",
      "4               1.0                0.0             0.0            0.0   \n",
      "..              ...                ...             ...            ...   \n",
      "227             0.0                1.0             0.0            0.0   \n",
      "228             0.0                0.0             1.0            1.0   \n",
      "229             1.0                0.0             0.0            0.0   \n",
      "230             0.0                1.0             0.0            0.0   \n",
      "231             0.0                0.0             1.0            1.0   \n",
      "\n",
      "     island_Dream  island_Torgersen  sex_FEMALE  sex_MALE  \n",
      "0             0.0               0.0         1.0       0.0  \n",
      "1             0.0               1.0         0.0       1.0  \n",
      "2             1.0               0.0         0.0       1.0  \n",
      "3             0.0               0.0         0.0       1.0  \n",
      "4             1.0               0.0         1.0       0.0  \n",
      "..            ...               ...         ...       ...  \n",
      "227           1.0               0.0         1.0       0.0  \n",
      "228           0.0               0.0         0.0       1.0  \n",
      "229           0.0               1.0         1.0       0.0  \n",
      "230           1.0               0.0         1.0       0.0  \n",
      "231           0.0               0.0         1.0       0.0  \n",
      "\n",
      "[232 rows x 8 columns]\n"
     ]
    }
   ],
   "source": [
    "X_train_ohe = pd.DataFrame(X_train_res.todense(), columns = ohe.get_feature_names_out())\n",
    "X_test_ohe = pd.DataFrame(X_test_res.todense(), columns = ohe.get_feature_names_out())\n",
    "print(X_train_ohe)\n",
    "\n",
    "X_train_fin = pd.concat([X_train[COL_NUM], X_train_ohe], axis =1)\n",
    "X_test_fin = pd.concat([X_test[COL_NUM], X_test_ohe], axis =1)"
   ]
  },
  {
   "cell_type": "markdown",
   "id": "9fa4b01b-462f-47fd-abe6-b1a937201fef",
   "metadata": {},
   "source": [
    "## 3) 데이터 모형 구축"
   ]
  },
  {
   "cell_type": "code",
   "execution_count": 62,
   "id": "caee7476-a0ee-4448-b26b-74758194a463",
   "metadata": {},
   "outputs": [],
   "source": [
    "from sklearn.model_selection import train_test_split\n",
    "X_tr, X_val, y_tr, y_val = train_test_split(X_train_fin, y_train, test_size = 0.3)"
   ]
  },
  {
   "cell_type": "code",
   "execution_count": 64,
   "id": "af50edb3-82cb-4dad-8051-38024f27c560",
   "metadata": {},
   "outputs": [],
   "source": [
    "from sklearn.preprocessing import MinMaxScaler\n",
    "\n",
    "scaler = MinMaxScaler()\n",
    "scaler.fit(X_tr[COL_NUM])\n",
    "X_tr[COL_NUM] = scaler.transform(X_tr[COL_NUM])\n",
    "X_val[COL_NUM] = scaler.transform(X_val[COL_NUM])\n",
    "X_test_fin[COL_NUM] = scaler.transform(X_test_fin[COL_NUM])\n",
    "                                 "
   ]
  },
  {
   "cell_type": "code",
   "execution_count": 67,
   "id": "d6362c85-bd79-4663-ad40-8e4541c84051",
   "metadata": {},
   "outputs": [
    {
     "name": "stdout",
     "output_type": "stream",
     "text": [
      "[5028.25 4659.   5028.25 4644.5  5116.   5116.   5014.   4659.   4659.\n",
      " 5014.   4659.   4644.   4659.   4638.   4644.5  4638.   4644.5  5150.5\n",
      " 5052.75 5014.   5116.   4659.   4638.   4644.5  5150.5  4659.   4644.\n",
      " 5511.5  5511.5  5052.75 5511.5  5116.   4659.   4644.5  5150.5  5014.\n",
      " 5116.   4659.   5116.   5028.25 5511.5  5150.5  4638.   5511.5  5150.5\n",
      " 5116.   5116.   4638.   5150.5  5511.5  5014.   5150.5  5511.5  5150.5\n",
      " 4644.5  5052.75 5511.5  5150.5  5028.25 5014.   5150.5  5150.5  5511.5\n",
      " 4644.   5511.5  4638.   5511.5  5150.5  5511.5  5511.5 ]\n"
     ]
    }
   ],
   "source": [
    "from sklearn.ensemble import RandomForestRegressor\n",
    "model_rfr = RandomForestRegressor()\n",
    "model_rfr.fit(X_tr, y_tr)\n",
    "\n",
    "y_val_pred = model_rfr.predict(X_val)\n",
    "print(y_val_pred)"
   ]
  },
  {
   "cell_type": "markdown",
   "id": "bd3183c0-8406-459c-8f64-61bbdb9e910f",
   "metadata": {},
   "source": [
    "## 4) 데이터 모형 평가"
   ]
  },
  {
   "cell_type": "code",
   "execution_count": 74,
   "id": "ece9e5fc-5afe-4b85-aa03-dd86053cfd4a",
   "metadata": {},
   "outputs": [
    {
     "name": "stdout",
     "output_type": "stream",
     "text": [
      "     body_mass_g\n",
      "108       4600.0\n",
      "153       3650.0\n",
      "169       4000.0\n",
      "162       3550.0\n",
      "103       3950.0\n",
      "..           ...\n",
      "16        3500.0\n",
      "80        5050.0\n",
      "210       4850.0\n",
      "8         5100.0\n",
      "228       5950.0\n",
      "\n",
      "[70 rows x 1 columns]\n"
     ]
    }
   ],
   "source": [
    "print(y_val)"
   ]
  },
  {
   "cell_type": "code",
   "execution_count": 73,
   "id": "36cd5396-0dac-4cd2-99e3-dccf903e9075",
   "metadata": {},
   "outputs": [
    {
     "name": "stdout",
     "output_type": "stream",
     "text": [
      "MSE  893254.374 RMSE  945.121\n"
     ]
    }
   ],
   "source": [
    "from sklearn.metrics import mean_squared_error, r2_score\n",
    "mse = mean_squared_error(y_val, y_val_pred)\n",
    "#rmse = mean_squared_error(y_val, y_val_pred, squared = False)\n",
    "rmse = np.sqrt(mse)\n",
    "print(f'MSE {mse : .3f} RMSE {rmse : .3f}')"
   ]
  },
  {
   "cell_type": "code",
   "execution_count": 71,
   "id": "4b819da2-f99d-4044-81ab-6cf5c5dcd659",
   "metadata": {},
   "outputs": [
    {
     "name": "stdout",
     "output_type": "stream",
     "text": [
      "[5052.75 5511.5  5116.   4644.5  5150.5  5028.25 4644.   4638.   4659.\n",
      " 4644.5  4644.5  5511.5  4638.   5014.   5052.75 5014.   5014.   4659.\n",
      " 4644.5  4644.   5511.5  5052.75 5511.5  5150.5  5511.5  5511.5  5511.5\n",
      " 5052.75 4659.   5028.25 5028.25 4644.5  4659.   5150.5  4644.5  4644.\n",
      " 4638.   4644.   5014.   5150.5  4644.5  5511.5  5150.5  5150.5  5511.5\n",
      " 5028.25 5150.5  4638.   5511.5  5116.   5150.5  5150.5  5116.   5116.\n",
      " 4644.5  5052.75 5150.5  5150.5  5014.   5052.75 5028.25 5150.5  4659.\n",
      " 5150.5  5014.   5052.75 5511.5  4659.   5150.5  4659.   5116.   4638.\n",
      " 5150.5  4644.   5150.5  5150.5  5511.5  4644.5  4644.   5150.5  4644.5\n",
      " 5511.5  4659.   5150.5  5150.5  4644.5  5511.5  5052.75 5028.25 5150.5\n",
      " 5028.25 5014.   5028.25 5014.   5511.5  5052.75 5511.5  4644.   5150.5\n",
      " 5511.5  4644.  ]\n"
     ]
    }
   ],
   "source": [
    "y_pred = model_rfr.predict(X_test_fin)\n",
    "print(y_pred)"
   ]
  },
  {
   "cell_type": "code",
   "execution_count": 77,
   "id": "af9bd86d-91cc-4eef-b3dc-8013d8959b43",
   "metadata": {},
   "outputs": [
    {
     "ename": "IndexError",
     "evalue": "too many indices for array: array is 1-dimensional, but 2 were indexed",
     "output_type": "error",
     "traceback": [
      "\u001b[1;31m---------------------------------------------------------------------------\u001b[0m",
      "\u001b[1;31mIndexError\u001b[0m                                Traceback (most recent call last)",
      "Cell \u001b[1;32mIn[77], line 1\u001b[0m\n\u001b[1;32m----> 1\u001b[0m pd\u001b[38;5;241m.\u001b[39mDataFrame({\u001b[38;5;124m'\u001b[39m\u001b[38;5;124mbody_mass_g\u001b[39m\u001b[38;5;124m'\u001b[39m: y_pred[:,\u001b[38;5;241m0\u001b[39m]})\u001b[38;5;241m.\u001b[39mto_csv(\u001b[38;5;124m'\u001b[39m\u001b[38;5;124mexample2.csv\u001b[39m\u001b[38;5;124m'\u001b[39m, index\u001b[38;5;241m=\u001b[39m\u001b[38;5;28;01mFalse\u001b[39;00m)\n",
      "\u001b[1;31mIndexError\u001b[0m: too many indices for array: array is 1-dimensional, but 2 were indexed"
     ]
    }
   ],
   "source": [
    "pd.DataFrame({'body_mass_g': y_pred[:,0]}).to_csv('example2.csv', index=False)"
   ]
  },
  {
   "cell_type": "markdown",
   "id": "2d6d15ea-3477-4f5a-a5ac-45f12c87315e",
   "metadata": {},
   "source": [
    "# 3. Census Income"
   ]
  },
  {
   "cell_type": "code",
   "execution_count": 1,
   "id": "dd628fdb-b088-4b92-87fc-79b85e9831ab",
   "metadata": {},
   "outputs": [],
   "source": [
    "import pandas as pd\n",
    "import numpy as np"
   ]
  },
  {
   "cell_type": "code",
   "execution_count": 2,
   "id": "3f8850ec-0d4c-47dd-a10c-9360038a2b09",
   "metadata": {},
   "outputs": [],
   "source": [
    "X_test = pd.read_csv(\"data/datasets/Part2/census_X_test.csv\")\n",
    "X_train = pd.read_csv(\"data/datasets/Part2/census_X_train.csv\")\n",
    "y_train = pd.read_csv(\"data/datasets/Part2/census_y_train.csv\")"
   ]
  },
  {
   "cell_type": "code",
   "execution_count": 3,
   "id": "dbd4280d-5bac-44b6-90aa-af2d3c6961c2",
   "metadata": {},
   "outputs": [
    {
     "name": "stdout",
     "output_type": "stream",
     "text": [
      "       age         workclass  education_num      marital_status  \\\n",
      "0       39         State-gov             13       Never-married   \n",
      "1       50  Self-emp-not-inc             13  Married-civ-spouse   \n",
      "2       38           Private              9            Divorced   \n",
      "3       53           Private              7  Married-civ-spouse   \n",
      "4       28           Private             13  Married-civ-spouse   \n",
      "...    ...               ...            ...                 ...   \n",
      "30157   27           Private             12  Married-civ-spouse   \n",
      "30158   40           Private              9  Married-civ-spouse   \n",
      "30159   58           Private              9             Widowed   \n",
      "30160   22           Private              9       Never-married   \n",
      "30161   52      Self-emp-inc              9  Married-civ-spouse   \n",
      "\n",
      "              occupation   relationship   race     sex  capital_gain  \\\n",
      "0           Adm-clerical  Not-in-family  White    Male          2174   \n",
      "1        Exec-managerial        Husband  White    Male             0   \n",
      "2      Handlers-cleaners  Not-in-family  White    Male             0   \n",
      "3      Handlers-cleaners        Husband  Black    Male             0   \n",
      "4         Prof-specialty           Wife  Black  Female             0   \n",
      "...                  ...            ...    ...     ...           ...   \n",
      "30157       Tech-support           Wife  White  Female             0   \n",
      "30158  Machine-op-inspct        Husband  White    Male             0   \n",
      "30159       Adm-clerical      Unmarried  White  Female             0   \n",
      "30160       Adm-clerical      Own-child  White    Male             0   \n",
      "30161    Exec-managerial           Wife  White  Female         15024   \n",
      "\n",
      "       capital_loss  hours_per_week native_country  \n",
      "0                 0              40  United-States  \n",
      "1                 0              13  United-States  \n",
      "2                 0              40  United-States  \n",
      "3                 0              40  United-States  \n",
      "4                 0              40           Cuba  \n",
      "...             ...             ...            ...  \n",
      "30157             0              38  United-States  \n",
      "30158             0              40  United-States  \n",
      "30159             0              40  United-States  \n",
      "30160             0              20  United-States  \n",
      "30161             0              40  United-States  \n",
      "\n",
      "[30162 rows x 12 columns]\n"
     ]
    }
   ],
   "source": [
    "print(X_train)"
   ]
  },
  {
   "cell_type": "code",
   "execution_count": 4,
   "id": "ba7f12b3-25f9-4ed7-a790-5c3c33aabf5d",
   "metadata": {},
   "outputs": [
    {
     "name": "stdout",
     "output_type": "stream",
     "text": [
      "<class 'pandas.core.frame.DataFrame'>\n",
      "RangeIndex: 30162 entries, 0 to 30161\n",
      "Data columns (total 12 columns):\n",
      " #   Column          Non-Null Count  Dtype \n",
      "---  ------          --------------  ----- \n",
      " 0   age             30162 non-null  int64 \n",
      " 1   workclass       30162 non-null  object\n",
      " 2   education_num   30162 non-null  int64 \n",
      " 3   marital_status  30162 non-null  object\n",
      " 4   occupation      30162 non-null  object\n",
      " 5   relationship    30162 non-null  object\n",
      " 6   race            30162 non-null  object\n",
      " 7   sex             30162 non-null  object\n",
      " 8   capital_gain    30162 non-null  int64 \n",
      " 9   capital_loss    30162 non-null  int64 \n",
      " 10  hours_per_week  30162 non-null  int64 \n",
      " 11  native_country  30162 non-null  object\n",
      "dtypes: int64(5), object(7)\n",
      "memory usage: 2.8+ MB\n",
      "None\n"
     ]
    }
   ],
   "source": [
    "print(X_train.info())"
   ]
  },
  {
   "cell_type": "code",
   "execution_count": 5,
   "id": "8254b391-340c-45fa-b070-37db42cc79b0",
   "metadata": {},
   "outputs": [
    {
     "name": "stdout",
     "output_type": "stream",
     "text": [
      "<class 'pandas.core.frame.DataFrame'>\n",
      "RangeIndex: 30162 entries, 0 to 30161\n",
      "Data columns (total 1 columns):\n",
      " #   Column  Non-Null Count  Dtype\n",
      "---  ------  --------------  -----\n",
      " 0   target  30162 non-null  int64\n",
      "dtypes: int64(1)\n",
      "memory usage: 235.8 KB\n",
      "None\n"
     ]
    }
   ],
   "source": [
    "print(y_train.info())"
   ]
  },
  {
   "cell_type": "code",
   "execution_count": 6,
   "id": "7510a805-afc4-415d-83d5-39a1f711803c",
   "metadata": {},
   "outputs": [
    {
     "name": "stdout",
     "output_type": "stream",
     "text": [
      "<class 'pandas.core.frame.DataFrame'>\n",
      "RangeIndex: 15060 entries, 0 to 15059\n",
      "Data columns (total 12 columns):\n",
      " #   Column          Non-Null Count  Dtype \n",
      "---  ------          --------------  ----- \n",
      " 0   age             15060 non-null  int64 \n",
      " 1   workclass       15060 non-null  object\n",
      " 2   education_num   15060 non-null  int64 \n",
      " 3   marital_status  15060 non-null  object\n",
      " 4   occupation      15060 non-null  object\n",
      " 5   relationship    15060 non-null  object\n",
      " 6   race            15060 non-null  object\n",
      " 7   sex             15060 non-null  object\n",
      " 8   capital_gain    15060 non-null  int64 \n",
      " 9   capital_loss    15060 non-null  int64 \n",
      " 10  hours_per_week  15060 non-null  int64 \n",
      " 11  native_country  15060 non-null  object\n",
      "dtypes: int64(5), object(7)\n",
      "memory usage: 1.4+ MB\n",
      "None\n"
     ]
    }
   ],
   "source": [
    "print(X_test.info())"
   ]
  },
  {
   "cell_type": "code",
   "execution_count": 7,
   "id": "c5806ad7-bf50-4810-b3fc-17ad64569ae8",
   "metadata": {},
   "outputs": [
    {
     "name": "stdout",
     "output_type": "stream",
     "text": [
      "                age  education_num  capital_gain  capital_loss  hours_per_week\n",
      "count  30162.000000   30162.000000  30162.000000  30162.000000    30162.000000\n",
      "mean      38.437902      10.121312   1092.007858     88.372489       40.931238\n",
      "std       13.134665       2.549995   7406.346497    404.298370       11.979984\n",
      "min       17.000000       1.000000      0.000000      0.000000        1.000000\n",
      "25%       28.000000       9.000000      0.000000      0.000000       40.000000\n",
      "50%       37.000000      10.000000      0.000000      0.000000       40.000000\n",
      "75%       47.000000      13.000000      0.000000      0.000000       45.000000\n",
      "max       90.000000      16.000000  99999.000000   4356.000000       99.000000\n"
     ]
    }
   ],
   "source": [
    "print(X_train.describe())"
   ]
  },
  {
   "cell_type": "code",
   "execution_count": null,
   "id": "612af29c-f064-4845-806a-6a6db9ac7181",
   "metadata": {},
   "outputs": [],
   "source": [
    "COL_NUM = ['"
   ]
  },
  {
   "cell_type": "code",
   "execution_count": null,
   "id": "41d6206d-0219-4f4e-9882-2e3c4731ed05",
   "metadata": {},
   "outputs": [],
   "source": []
  },
  {
   "cell_type": "code",
   "execution_count": null,
   "id": "6fef1be3-de77-487f-8e61-3b43ca158b80",
   "metadata": {},
   "outputs": [],
   "source": []
  },
  {
   "cell_type": "code",
   "execution_count": null,
   "id": "32660175-b7f8-4a6d-b84a-5eadb72d806e",
   "metadata": {},
   "outputs": [],
   "source": []
  }
 ],
 "metadata": {
  "kernelspec": {
   "display_name": "Python 3 (ipykernel)",
   "language": "python",
   "name": "python3"
  },
  "language_info": {
   "codemirror_mode": {
    "name": "ipython",
    "version": 3
   },
   "file_extension": ".py",
   "mimetype": "text/x-python",
   "name": "python",
   "nbconvert_exporter": "python",
   "pygments_lexer": "ipython3",
   "version": "3.11.7"
  }
 },
 "nbformat": 4,
 "nbformat_minor": 5
}
