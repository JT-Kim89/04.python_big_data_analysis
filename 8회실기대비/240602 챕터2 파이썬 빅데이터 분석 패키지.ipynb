{
 "cells": [
  {
   "cell_type": "markdown",
   "id": "1147e533-c4f5-4a71-8d98-1018ef556c92",
   "metadata": {},
   "source": [
    "# 01. Numpy"
   ]
  },
  {
   "cell_type": "code",
   "execution_count": 8,
   "id": "c859ada0-344c-4960-a906-8be6b69bc2ee",
   "metadata": {},
   "outputs": [],
   "source": [
    "# 212-01 넘파이 임포트\n",
    "import numpy as np"
   ]
  },
  {
   "cell_type": "code",
   "execution_count": 9,
   "id": "d30b401e-ee28-4319-aab8-62edd8ce389f",
   "metadata": {},
   "outputs": [
    {
     "name": "stdout",
     "output_type": "stream",
     "text": [
      "[1 2 3]\n",
      "array1 type :  <class 'numpy.ndarray'>\n",
      "array1 shape :  (3,)\n",
      "[[1 2 3]\n",
      " [4 5 6]]\n",
      "array2 type :  <class 'numpy.ndarray'>\n",
      "array2 shape :  (2, 3)\n",
      "[[1 2 3]]\n",
      "array3 type :  <class 'numpy.ndarray'>\n",
      "array3 shape :  (1, 3)\n"
     ]
    }
   ],
   "source": [
    "# 212-02 넘파이 배열 형태\n",
    "a1 = np.array([1, 2, 3])\n",
    "print(a1)\n",
    "print('array1 type : ', type(a1))\n",
    "print('array1 shape : ', a1.shape)  # 1차원 배열에 3개의 데이터\n",
    "\n",
    "a2 = np.array([[1, 2, 3], [4, 5, 6]])\n",
    "print(a2)\n",
    "print('array2 type : ', type(a2))\n",
    "print('array2 shape : ', a2.shape)  # 2차원 배열, 2개의 행과 3개의 칼럼 데이터 \n",
    "\n",
    "a3 = np.array([[1, 2, 3]])\n",
    "print(a3)\n",
    "print('array3 type : ', type(a3))\n",
    "print('array3 shape : ', a3.shape)  # 2차원 배열, 1개의 행과 3개의 칼럼"
   ]
  },
  {
   "cell_type": "code",
   "execution_count": 10,
   "id": "f8d5bf40-d1b6-4ae6-ba3c-2bf6ffaa87f7",
   "metadata": {},
   "outputs": [
    {
     "name": "stdout",
     "output_type": "stream",
     "text": [
      "array 1 dim : 1\n",
      "array 2 dim : 2\n",
      "array 3 dim : 2\n"
     ]
    }
   ],
   "source": [
    "# 212-03 넘파이 배열 차원\n",
    "print('array 1 dim :', a1.ndim)  # 1차원 배열\n",
    "print('array 2 dim :', a2.ndim)  # 2차원 배열\n",
    "print('array 3 dim :', a3.ndim)  # 2차원 배열"
   ]
  },
  {
   "cell_type": "code",
   "execution_count": 11,
   "id": "3960ed6c-b30f-4534-854b-10355305038c",
   "metadata": {},
   "outputs": [
    {
     "name": "stdout",
     "output_type": "stream",
     "text": [
      "[ 0  1  2  3  4  5  6  7  8  9 10 11 12 13 14 15 16 17 18 19]\n"
     ]
    }
   ],
   "source": [
    "# 212-04 넘파이 arange 함수 기본\n",
    "a = np.arange(20)\n",
    "print(a)"
   ]
  },
  {
   "cell_type": "code",
   "execution_count": 12,
   "id": "2de7d942-d28d-4542-9c0b-3bfa25241df8",
   "metadata": {},
   "outputs": [
    {
     "name": "stdout",
     "output_type": "stream",
     "text": [
      "[ 1  4  7 10 13 16 19]\n"
     ]
    }
   ],
   "source": [
    "# 212-05 넘파이 arange 함수 응용\n",
    "a = np.arange(1, 20 ,3)\n",
    "print(a)"
   ]
  },
  {
   "cell_type": "code",
   "execution_count": 13,
   "id": "a1d951cc-fdff-417d-9a70-c458f958e0d4",
   "metadata": {},
   "outputs": [
    {
     "name": "stdout",
     "output_type": "stream",
     "text": [
      "[[0. 0. 0. 0. 0.]\n",
      " [0. 0. 0. 0. 0.]]\n",
      "[[1. 1. 1. 1.]\n",
      " [1. 1. 1. 1.]\n",
      " [1. 1. 1. 1.]]\n"
     ]
    }
   ],
   "source": [
    "# 213-01 넘파이 zeros, ones 함수\n",
    "zero_a = np.zeros((2, 5))\n",
    "one_a = np.ones((3, 4))\n",
    "print(zero_a)\n",
    "print(one_a)"
   ]
  },
  {
   "cell_type": "code",
   "execution_count": 14,
   "id": "c745473b-32c0-41c6-9877-f4415b6086c7",
   "metadata": {},
   "outputs": [
    {
     "name": "stdout",
     "output_type": "stream",
     "text": [
      "[[0. 0. 0. 0.]\n",
      " [0. 0. 0. 0.]\n",
      " [0. 0. 0. 0.]]\n"
     ]
    }
   ],
   "source": [
    "# 213-02 넘파이 zeros_like함수\n",
    "zero_b = np.zeros_like(one_a)\n",
    "print(zero_b)"
   ]
  },
  {
   "cell_type": "code",
   "execution_count": 15,
   "id": "9565322b-28be-4719-8f9f-02a3823b70e2",
   "metadata": {},
   "outputs": [
    {
     "name": "stdout",
     "output_type": "stream",
     "text": [
      "[[1. 1. 1. 1. 1.]\n",
      " [1. 1. 1. 1. 1.]]\n"
     ]
    }
   ],
   "source": [
    "# 213-03 넘파이 ones_like함수\n",
    "one_b = np.ones_like(zero_a)\n",
    "print(one_b)"
   ]
  },
  {
   "cell_type": "code",
   "execution_count": 16,
   "id": "bbd0cfa4-f4ea-4e66-a21e-ccb78fe86be1",
   "metadata": {},
   "outputs": [
    {
     "name": "stdout",
     "output_type": "stream",
     "text": [
      "[[9 9 9]\n",
      " [9 9 9]\n",
      " [9 9 9]\n",
      " [9 9 9]]\n",
      "[[0.73281524 0.7104828  0.3063371  0.68496705]\n",
      " [0.94110787 0.60642247 0.92000172 0.71718665]\n",
      " [0.54135405 0.34987047 0.97570155 0.8645934 ]]\n"
     ]
    }
   ],
   "source": [
    "# 213-04 넘파이 full, random 함수\n",
    "full_a = np.full((4, 3), 9)\n",
    "random_a = np.random.random((3, 4))\n",
    "\n",
    "print(full_a)\n",
    "print(random_a)"
   ]
  },
  {
   "cell_type": "code",
   "execution_count": 17,
   "id": "c62f277a-bbb9-4a61-9bb0-3f56a675feb5",
   "metadata": {},
   "outputs": [
    {
     "name": "stdout",
     "output_type": "stream",
     "text": [
      "[[1. 0. 0. 0.]\n",
      " [0. 1. 0. 0.]\n",
      " [0. 0. 1. 0.]\n",
      " [0. 0. 0. 1.]]\n"
     ]
    }
   ],
   "source": [
    "# 213-05 넘파이 eye함수\n",
    "eye_a = np.eye(4)\n",
    "print(eye_a)"
   ]
  },
  {
   "cell_type": "code",
   "execution_count": 19,
   "id": "78ae8f67-43ad-406e-b4ca-459ec2e8226c",
   "metadata": {},
   "outputs": [
    {
     "name": "stdout",
     "output_type": "stream",
     "text": [
      "array1 : \n",
      " [ 0  1  2  3  4  5  6  7  8  9 10 11]\n",
      "array2 : \n",
      " [[ 0  1  2  3]\n",
      " [ 4  5  6  7]\n",
      " [ 8  9 10 11]]\n",
      "array3 : \n",
      " [[ 0  3  6  9]\n",
      " [ 1  4  7 10]\n",
      " [ 2  5  8 11]]\n"
     ]
    }
   ],
   "source": [
    "# 214-01 넘파이 reshape함수 기본\n",
    "array1 = np.arange(12)\n",
    "print('array1 : \\n', array1)\n",
    "\n",
    "array2 = array1.reshape(3,4)\n",
    "print('array2 : \\n', array2)\n",
    "\n",
    "array3 = array1.reshape(3,4,order='F')\n",
    "print('array3 : \\n', array3)"
   ]
  },
  {
   "cell_type": "code",
   "execution_count": 20,
   "id": "23db15db-c92c-4c95-80a9-9f5a568e92e4",
   "metadata": {},
   "outputs": [
    {
     "name": "stdout",
     "output_type": "stream",
     "text": [
      "[[0 1 2 3 4]\n",
      " [5 6 7 8 9]]\n",
      "array2 dim :  2\n",
      "array2 shape :  (2, 5)\n"
     ]
    }
   ],
   "source": [
    "# 214-02 넘파이 reshape 함수 응용\n",
    "array1 = np.arange(10)\n",
    "array2 = array1.reshape(-1, 5)\n",
    "\n",
    "print(array2)\n",
    "print('array2 dim : ', array2.ndim)\n",
    "print('array2 shape : ', array2.shape)"
   ]
  },
  {
   "cell_type": "code",
   "execution_count": 21,
   "id": "db1c694e-5b2c-4dd9-964e-abd702751378",
   "metadata": {},
   "outputs": [
    {
     "name": "stdout",
     "output_type": "stream",
     "text": [
      "[[[ 0  6]\n",
      "  [ 2  8]\n",
      "  [ 4 10]]\n",
      "\n",
      " [[ 1  7]\n",
      "  [ 3  9]\n",
      "  [ 5 11]]]\n",
      "array2 dim :  3\n",
      "array2 shape :  (2, 3, 2)\n"
     ]
    }
   ],
   "source": [
    "# 214-03 넘파이 reshape 함수 다차원 변형\n",
    "array1 = np.arange(12)\n",
    "array2 = array1.reshape(2, 3, 2, order = 'F')\n",
    "\n",
    "print(array2)\n",
    "print('array2 dim : ', array2.ndim)\n",
    "print('array2 shape : ', array2.shape)"
   ]
  },
  {
   "cell_type": "code",
   "execution_count": 22,
   "id": "cd17c604-23b8-4c13-82f3-05664966dce8",
   "metadata": {},
   "outputs": [
    {
     "name": "stdout",
     "output_type": "stream",
     "text": [
      "[ 0  6  2  8  4 10  1  7  3  9  5 11]\n"
     ]
    }
   ],
   "source": [
    "# 214-04 넘파이 flatten 함수 1차원 변형\n",
    "array3 = array2.flatten()\n",
    "print(array3)"
   ]
  },
  {
   "cell_type": "code",
   "execution_count": 23,
   "id": "1ffaeeae-331f-46f0-9698-a0facad596c4",
   "metadata": {},
   "outputs": [
    {
     "name": "stdout",
     "output_type": "stream",
     "text": [
      "array1 :  [1 2 3 4 5 6 7 8 9]\n",
      "3\n",
      "8\n"
     ]
    }
   ],
   "source": [
    "# 215-01 넘파이 1차원 배열 단일값 추출\n",
    "array1 = np.arange(1, 10)\n",
    "print('array1 : ', array1)\n",
    "\n",
    "value1 = array1[2]\n",
    "value2 = array1[-2]\n",
    "\n",
    "print(value1)\n",
    "print(value2)"
   ]
  },
  {
   "cell_type": "code",
   "execution_count": 25,
   "id": "88ef041f-58d9-4c2d-b9c2-9237340a460d",
   "metadata": {},
   "outputs": [
    {
     "name": "stdout",
     "output_type": "stream",
     "text": [
      "array2 : \n",
      " [[1 2 3]\n",
      " [4 5 6]\n",
      " [7 8 9]]\n",
      "1\n",
      "9\n",
      "8\n"
     ]
    }
   ],
   "source": [
    "# 215-02 넘파이 다차원 배열 단일값 추출\n",
    "array1 = np.arange(1, 10)\n",
    "array2 = array1.reshape(3, 3)\n",
    "print('array2 : \\n', array2)\n",
    "\n",
    "value1 = array2[0, 0]\n",
    "value2 = array2[-1, -1]\n",
    "value3 = array2[-1, -2]\n",
    "\n",
    "print(value1)\n",
    "print(value2)\n",
    "print(value3)"
   ]
  },
  {
   "cell_type": "code",
   "execution_count": 26,
   "id": "d3ac6cff-75fe-4477-94ec-59f5d9b40645",
   "metadata": {},
   "outputs": [
    {
     "name": "stdout",
     "output_type": "stream",
     "text": [
      "<class 'numpy.ndarray'>\n",
      "[1 2 3]\n",
      "[1 2 3]\n",
      "[4 5 6 7 8 9]\n"
     ]
    }
   ],
   "source": [
    "# 215-03 넘파이 1차원 배열 슬라이싱 추출\n",
    "array1 = np.arange(1, 10)\n",
    "array2 = array1[0:3]\n",
    "array3 = array1[:3]\n",
    "array4 = array1[3:]\n",
    "\n",
    "print(type(array2))\n",
    "print(array2)\n",
    "print(array3)\n",
    "print(array4)"
   ]
  },
  {
   "cell_type": "code",
   "execution_count": 29,
   "id": "fd395c27-3203-4b70-bce4-ecef7442486b",
   "metadata": {},
   "outputs": [
    {
     "name": "stdout",
     "output_type": "stream",
     "text": [
      "array2 : \n",
      " [[1 2 3]\n",
      " [4 5 6]\n",
      " [7 8 9]]\n",
      "array2[0:2, 0:2]\n",
      " [[1 2]\n",
      " [4 5]]\n",
      "array2[1:3, 0:3]\n",
      " [[4 5 6]\n",
      " [7 8 9]]\n",
      "array2[:2, 1:]\n",
      " [[2 3]\n",
      " [5 6]]\n",
      "array2[:2, 0]\n",
      " [1 4]\n"
     ]
    }
   ],
   "source": [
    "# 215-04 넘파이 다차원 배열 슬라이싱 추출\n",
    "array1 = np.arange(1, 10)\n",
    "array2 = array1.reshape(3, 3)\n",
    "print('array2 : \\n', array2)\n",
    "\n",
    "print('array2[0:2, 0:2]\\n', array2[0:2, 0:2])\n",
    "print('array2[1:3, 0:3]\\n', array2[1:3, 0:3])\n",
    "print('array2[:2, 1:]\\n', array2[:2, 1:])\n",
    "print('array2[:2, 0]\\n', array2[0:2, 0])"
   ]
  },
  {
   "cell_type": "code",
   "execution_count": 30,
   "id": "d4e501dc-366e-4b47-9169-75a10d4bb8c9",
   "metadata": {},
   "outputs": [
    {
     "name": "stdout",
     "output_type": "stream",
     "text": [
      "[[ 58  64]\n",
      " [139 154]]\n"
     ]
    }
   ],
   "source": [
    "# 216-01 넘파이 행렬 내적 계산\n",
    "array1 = np.array([[1,2,3],\n",
    "                   [4,5,6]])\n",
    "array2 = np.array([[7,8],\n",
    "                   [9,10],\n",
    "                   [11,12]])\n",
    "dot_array = np.dot(array1, array2)\n",
    "print(dot_array)"
   ]
  },
  {
   "cell_type": "code",
   "execution_count": 32,
   "id": "b78f9957-ccf5-4ffc-8b74-6bac504da6e5",
   "metadata": {},
   "outputs": [
    {
     "name": "stdout",
     "output_type": "stream",
     "text": [
      "[[1 4]\n",
      " [2 5]\n",
      " [3 6]]\n"
     ]
    }
   ],
   "source": [
    "# 216-02 넘파이 전치 행렬 계산\n",
    "array1 = np.array([[1,2,3],\n",
    "                   [4,5,6]])\n",
    "transpose_array = np.transpose(array1)\n",
    "print(transpose_array)"
   ]
  },
  {
   "cell_type": "code",
   "execution_count": 33,
   "id": "6f289dc4-1cda-4bb0-be5a-86601b466e8a",
   "metadata": {},
   "outputs": [
    {
     "data": {
      "text/plain": [
       "20"
      ]
     },
     "execution_count": 33,
     "metadata": {},
     "output_type": "execute_result"
    }
   ],
   "source": [
    "# 217-01 배열 데이터 개수 계산\n",
    "x = np.array([18, 5, 10, 23, 19, -8, 10, 0, 0, 5, 2, 15, 8,\n",
    "              2, 5, 4, 15, -1, 4, -7])\n",
    "len(x)"
   ]
  },
  {
   "cell_type": "code",
   "execution_count": 34,
   "id": "a0c012c9-e7b0-40ea-80a2-39ad63c77a01",
   "metadata": {},
   "outputs": [
    {
     "name": "stdout",
     "output_type": "stream",
     "text": [
      "6.45\n",
      "66.2475\n",
      "8.13925672282181\n"
     ]
    }
   ],
   "source": [
    "# 217-02 평균, 분산, 표준편차 계산\n",
    "print(np.mean(x))  # 평균\n",
    "print(np.var(x))  # 분산\n",
    "print(np.std(x))  # 표준편차"
   ]
  },
  {
   "cell_type": "code",
   "execution_count": 35,
   "id": "840800d5-d29e-4ce3-a25c-a020548f8ee2",
   "metadata": {},
   "outputs": [
    {
     "name": "stdout",
     "output_type": "stream",
     "text": [
      "23\n",
      "-8\n",
      "5.0\n"
     ]
    }
   ],
   "source": [
    "# 217-03 최댓값, 최솟값, 중앙값 계산\n",
    "print(np.max(x))  # 최댓값\n",
    "print(np.min(x))  # 최소값\n",
    "print(np.median(x))  # 중앙값"
   ]
  },
  {
   "cell_type": "code",
   "execution_count": 36,
   "id": "12732504-5781-4b80-b448-117ec067b31f",
   "metadata": {},
   "outputs": [
    {
     "name": "stdout",
     "output_type": "stream",
     "text": [
      "1.5\n",
      "5.0\n",
      "11.25\n"
     ]
    }
   ],
   "source": [
    "# 217-04 사분위수 계산\n",
    "print(np.percentile(x, 25))\n",
    "print(np.percentile(x, 50))\n",
    "print(np.percentile(x, 75))"
   ]
  },
  {
   "cell_type": "markdown",
   "id": "f124fa10-274b-4782-b34f-a57a00b6804d",
   "metadata": {},
   "source": [
    "# 02. Pandas"
   ]
  },
  {
   "cell_type": "code",
   "execution_count": 1,
   "id": "eed48f8b-e956-4a18-8c08-9543fb71521d",
   "metadata": {},
   "outputs": [],
   "source": [
    "# 222-01 판다스 임포트\n",
    "import pandas as pd"
   ]
  },
  {
   "cell_type": "code",
   "execution_count": 38,
   "id": "30a8fcb9-fdf4-482c-a89c-674a7b3e4643",
   "metadata": {},
   "outputs": [
    {
     "name": "stdout",
     "output_type": "stream",
     "text": [
      "0    1\n",
      "1    3\n",
      "2    5\n",
      "3    6\n",
      "4    8\n",
      "dtype: int64\n",
      "RangeIndex(start=0, stop=5, step=1)\n",
      "[1 3 5 6 8]\n"
     ]
    }
   ],
   "source": [
    "# 222-02 시리즈\n",
    "s = pd.Series([1, 3, 5, 6, 8])\n",
    "print(s)\n",
    "print(s.index)\n",
    "print(s.values)"
   ]
  },
  {
   "cell_type": "code",
   "execution_count": 39,
   "id": "8f307fb1-3c06-447f-9d61-9c04b1a57e68",
   "metadata": {},
   "outputs": [
    {
     "name": "stdout",
     "output_type": "stream",
     "text": [
      "     컬럼1  컬럼2  컬럼3\n",
      "첫째행    1    2    3\n",
      "둘째행    4    5    6\n",
      "셋째행    7    8    9\n"
     ]
    }
   ],
   "source": [
    "# 222-03 데이터프레임\n",
    "v = [[1, 2, 3,], [4, 5, 6], [7, 8, 9]]\n",
    "i = ['첫째행', '둘째행', '셋째행']\n",
    "c = ['컬럼1', '컬럼2', '컬럼3']\n",
    "\n",
    "df = pd.DataFrame(v, index=i, columns =c)\n",
    "print(df)"
   ]
  },
  {
   "cell_type": "code",
   "execution_count": 40,
   "id": "0bc0c5b6-dd9b-4ced-abc8-4ebbcf9c8082",
   "metadata": {},
   "outputs": [
    {
     "name": "stdout",
     "output_type": "stream",
     "text": [
      "    번호   이름   점수\n",
      "0  100  강백호  9.7\n",
      "1  101  송태섭  8.9\n",
      "2  102  서태웅  9.3\n",
      "3  103  채치수  6.1\n"
     ]
    }
   ],
   "source": [
    "# 223-01 리스트로 생성하기\n",
    "d = [\n",
    "    ['100', '강백호', 9.7],\n",
    "    ['101', '송태섭', 8.9],\n",
    "    ['102', '서태웅', 9.3],\n",
    "    ['103', '채치수', 6.1],\n",
    "    ]\n",
    "df = pd.DataFrame(d, columns=['번호', '이름', '점수'])\n",
    "print(df)"
   ]
  },
  {
   "cell_type": "code",
   "execution_count": 42,
   "id": "f99342ed-06ef-42ab-b653-a18500c8ab09",
   "metadata": {},
   "outputs": [
    {
     "name": "stdout",
     "output_type": "stream",
     "text": [
      "    번호   이름   점수\n",
      "0  100  강백호  9.7\n",
      "1  101  송태섭  8.9\n",
      "2  102  서태웅  9.3\n",
      "3  103  채치수  6.1\n"
     ]
    }
   ],
   "source": [
    "# 223-02 딕셔너리로 생성하기\n",
    "d = {\n",
    "    '번호' : ['100', '101', '102', '103'],\n",
    "    '이름' : ['강백호', '송태섭', '서태웅', '채치수'],\n",
    "    '점수' : [9.7, 8.9, 9.3, 6.1],\n",
    "    }\n",
    "df = pd.DataFrame(d)\n",
    "print(df)"
   ]
  },
  {
   "cell_type": "code",
   "execution_count": 51,
   "id": "51f4e732-f6e6-4c3d-96af-1eead2cd0217",
   "metadata": {},
   "outputs": [
    {
     "name": "stdout",
     "output_type": "stream",
     "text": [
      "iris 변수 type :  <class 'pandas.core.frame.DataFrame'>\n",
      "     sepal_length  sepal_width  petal_length  petal_width    species\n",
      "0             5.1          3.5           1.4          0.2     setosa\n",
      "1             4.9          3.0           1.4          0.2     setosa\n",
      "2             4.7          3.2           1.3          0.2     setosa\n",
      "3             4.6          3.1           1.5          0.2     setosa\n",
      "4             5.0          3.6           1.4          0.2     setosa\n",
      "..            ...          ...           ...          ...        ...\n",
      "145           6.7          3.0           5.2          2.3  virginica\n",
      "146           6.3          2.5           5.0          1.9  virginica\n",
      "147           6.5          3.0           5.2          2.0  virginica\n",
      "148           6.2          3.4           5.4          2.3  virginica\n",
      "149           5.9          3.0           5.1          1.8  virginica\n",
      "\n",
      "[150 rows x 5 columns]\n"
     ]
    }
   ],
   "source": [
    "# 223-03 csv파일로 생성하기\n",
    "iris_df = pd.read_csv('data/datasets/part2/iris.csv')\n",
    "print('iris 변수 type : ', type(iris_df))\n",
    "print(iris_df)"
   ]
  },
  {
   "cell_type": "code",
   "execution_count": 52,
   "id": "b8c43b99-cd28-4147-b3ef-80a0c8e0f2c5",
   "metadata": {},
   "outputs": [
    {
     "name": "stdout",
     "output_type": "stream",
     "text": [
      "DataFrame 크기 :  (150, 5)\n",
      "   sepal_length  sepal_width  petal_length  petal_width species\n",
      "0           5.1          3.5           1.4          0.2  setosa\n",
      "1           4.9          3.0           1.4          0.2  setosa\n",
      "2           4.7          3.2           1.3          0.2  setosa\n",
      "3           4.6          3.1           1.5          0.2  setosa\n",
      "4           5.0          3.6           1.4          0.2  setosa\n"
     ]
    }
   ],
   "source": [
    "# 224-01 데이터프레임 head 함수\n",
    "print('DataFrame 크기 : ', iris_df.shape)\n",
    "print(iris_df.head(5))"
   ]
  },
  {
   "cell_type": "code",
   "execution_count": 53,
   "id": "a19d3531-9a40-4f37-8bfd-30a5a042559a",
   "metadata": {},
   "outputs": [
    {
     "name": "stdout",
     "output_type": "stream",
     "text": [
      "<class 'pandas.core.frame.DataFrame'>\n",
      "RangeIndex: 150 entries, 0 to 149\n",
      "Data columns (total 5 columns):\n",
      " #   Column        Non-Null Count  Dtype  \n",
      "---  ------        --------------  -----  \n",
      " 0   sepal_length  150 non-null    float64\n",
      " 1   sepal_width   150 non-null    float64\n",
      " 2   petal_length  150 non-null    float64\n",
      " 3   petal_width   150 non-null    float64\n",
      " 4   species       150 non-null    object \n",
      "dtypes: float64(4), object(1)\n",
      "memory usage: 6.0+ KB\n",
      "None\n"
     ]
    }
   ],
   "source": [
    "# 224-02 데이터프레임 info 함수\n",
    "print(iris_df.info())"
   ]
  },
  {
   "cell_type": "code",
   "execution_count": 54,
   "id": "5b425ddf-d4d8-4897-ad37-139775d63e31",
   "metadata": {},
   "outputs": [
    {
     "name": "stdout",
     "output_type": "stream",
     "text": [
      "       sepal_length  sepal_width  petal_length  petal_width\n",
      "count    150.000000   150.000000    150.000000   150.000000\n",
      "mean       5.843333     3.057333      3.758000     1.199333\n",
      "std        0.828066     0.435866      1.765298     0.762238\n",
      "min        4.300000     2.000000      1.000000     0.100000\n",
      "25%        5.100000     2.800000      1.600000     0.300000\n",
      "50%        5.800000     3.000000      4.350000     1.300000\n",
      "75%        6.400000     3.300000      5.100000     1.800000\n",
      "max        7.900000     4.400000      6.900000     2.500000\n"
     ]
    }
   ],
   "source": [
    "# 224-03 데이터프레임 describe 함수\n",
    "print(iris_df.describe())"
   ]
  },
  {
   "cell_type": "code",
   "execution_count": 57,
   "id": "2411a674-4f27-48f4-b749-de40220973bd",
   "metadata": {},
   "outputs": [
    {
     "name": "stdout",
     "output_type": "stream",
     "text": [
      "0    5.1\n",
      "1    4.9\n",
      "2    4.7\n",
      "3    4.6\n",
      "4    5.0\n",
      "Name: sepal_length, dtype: float64\n"
     ]
    }
   ],
   "source": [
    "# 224-04 시리즈 head함수\n",
    "iris_df_sepal_length = iris_df['sepal_length']\n",
    "print(iris_df_sepal_length.head())"
   ]
  },
  {
   "cell_type": "code",
   "execution_count": 58,
   "id": "2afec8b9-217e-45b5-a303-ff7976354d7f",
   "metadata": {},
   "outputs": [
    {
     "name": "stdout",
     "output_type": "stream",
     "text": [
      "sepal_length\n",
      "5.0    10\n",
      "5.1     9\n",
      "6.3     9\n",
      "5.7     8\n",
      "6.7     8\n",
      "5.8     7\n",
      "5.5     7\n",
      "6.4     7\n",
      "4.9     6\n",
      "5.4     6\n",
      "6.1     6\n",
      "6.0     6\n",
      "5.6     6\n",
      "4.8     5\n",
      "6.5     5\n",
      "6.2     4\n",
      "7.7     4\n",
      "6.9     4\n",
      "4.6     4\n",
      "5.2     4\n",
      "5.9     3\n",
      "4.4     3\n",
      "7.2     3\n",
      "6.8     3\n",
      "6.6     2\n",
      "4.7     2\n",
      "7.6     1\n",
      "7.4     1\n",
      "7.3     1\n",
      "7.0     1\n",
      "7.1     1\n",
      "5.3     1\n",
      "4.3     1\n",
      "4.5     1\n",
      "7.9     1\n",
      "Name: count, dtype: int64\n"
     ]
    }
   ],
   "source": [
    "# 224-05 시리즈 value_counts 함수\n",
    "value_counts = iris_df_sepal_length.value_counts()\n",
    "print(value_counts)"
   ]
  },
  {
   "cell_type": "code",
   "execution_count": 64,
   "id": "4273d16a-7e9a-475c-9898-d310bd4a14d7",
   "metadata": {},
   "outputs": [
    {
     "name": "stdout",
     "output_type": "stream",
     "text": [
      "   sepal_length  sepal_width  petal_length  petal_width species  Add_0\n",
      "0           5.1          3.5           1.4          0.2  setosa      0\n",
      "1           4.9          3.0           1.4          0.2  setosa      0\n",
      "2           4.7          3.2           1.3          0.2  setosa      0\n",
      "3           4.6          3.1           1.5          0.2  setosa      0\n",
      "4           5.0          3.6           1.4          0.2  setosa      0\n"
     ]
    }
   ],
   "source": [
    "# 225-01 신규 칼럼 생성하기 기본\n",
    "iris_df['Add_0'] = 0\n",
    "print(iris_df.head())"
   ]
  },
  {
   "cell_type": "code",
   "execution_count": 65,
   "id": "19d49192-780e-4167-8ad7-c46078e06ded",
   "metadata": {},
   "outputs": [
    {
     "name": "stdout",
     "output_type": "stream",
     "text": [
      "   sepal_length  sepal_width  petal_length  petal_width species  Add_0  Add_1\n",
      "0           5.1          3.5           1.4          0.2  setosa      0    1.0\n",
      "1           4.9          3.0           1.4          0.2  setosa      0    0.0\n",
      "2           4.7          3.2           1.3          0.2  setosa      0    0.0\n",
      "3           4.6          3.1           1.5          0.2  setosa      0    0.0\n",
      "4           5.0          3.6           1.4          0.2  setosa      0    1.0\n"
     ]
    }
   ],
   "source": [
    "# 225-02 신규 칼럼 생성하기 응용\n",
    "iris_df['Add_1'] = iris_df['sepal_length'] // 5\n",
    "print(iris_df.head())"
   ]
  },
  {
   "cell_type": "code",
   "execution_count": 66,
   "id": "24deae21-0e79-4061-8ebb-350c40db9792",
   "metadata": {},
   "outputs": [
    {
     "name": "stdout",
     "output_type": "stream",
     "text": [
      "   sepal_length  sepal_width  petal_length  petal_width species  Add_0  Add_1\n",
      "0           5.1          3.5           1.4          0.2  setosa      0    5.0\n",
      "1           4.9          3.0           1.4          0.2  setosa      0    0.0\n",
      "2           4.7          3.2           1.3          0.2  setosa      0    0.0\n",
      "3           4.6          3.1           1.5          0.2  setosa      0    0.0\n",
      "4           5.0          3.6           1.4          0.2  setosa      0    5.0\n"
     ]
    }
   ],
   "source": [
    "# 225-03 칼럼 데이터 수정하기\n",
    "iris_df['Add_1'] = iris_df['Add_1'] * 5\n",
    "print(iris_df.head())"
   ]
  },
  {
   "cell_type": "code",
   "execution_count": 67,
   "id": "ab549765-4f03-47d1-a7b7-65b3a793227f",
   "metadata": {},
   "outputs": [
    {
     "name": "stdout",
     "output_type": "stream",
     "text": [
      "Add_1\n",
      "5.0    128\n",
      "0.0     22\n",
      "Name: count, dtype: int64\n"
     ]
    }
   ],
   "source": [
    "# 225-04 신규 칼럼 value_count 함수\n",
    "value_counts = iris_df['Add_1'].value_counts()\n",
    "print(value_counts)"
   ]
  },
  {
   "cell_type": "code",
   "execution_count": 68,
   "id": "d59d8e2f-f459-435e-b5b6-73bafca382c5",
   "metadata": {},
   "outputs": [
    {
     "name": "stdout",
     "output_type": "stream",
     "text": [
      "   sepal_length  sepal_width  petal_length  petal_width species  Add_1\n",
      "0           5.1          3.5           1.4          0.2  setosa    5.0\n",
      "1           4.9          3.0           1.4          0.2  setosa    0.0\n",
      "2           4.7          3.2           1.3          0.2  setosa    0.0\n",
      "3           4.6          3.1           1.5          0.2  setosa    0.0\n",
      "4           5.0          3.6           1.4          0.2  setosa    5.0\n"
     ]
    }
   ],
   "source": [
    "# 226-01 칼럼 데이터 삭제하기\n",
    "iris_drop_df = iris_df.drop('Add_0', axis=1)\n",
    "print(iris_drop_df.head())"
   ]
  },
  {
   "cell_type": "code",
   "execution_count": 70,
   "id": "b53537df-d9ad-4ce6-81d9-ff507531a81c",
   "metadata": {},
   "outputs": [
    {
     "name": "stdout",
     "output_type": "stream",
     "text": [
      "drop_result 반환값 :  None\n",
      "   sepal_length  sepal_width  petal_length  petal_width species\n",
      "0           5.1          3.5           1.4          0.2  setosa\n",
      "1           4.9          3.0           1.4          0.2  setosa\n",
      "2           4.7          3.2           1.3          0.2  setosa\n",
      "3           4.6          3.1           1.5          0.2  setosa\n",
      "4           5.0          3.6           1.4          0.2  setosa\n"
     ]
    }
   ],
   "source": [
    "# 226-02 복수 칼럼 데이터 삭제하기\n",
    "drop_result = iris_df.drop( ['Add_0', 'Add_1'], axis=1, inplace = True)\n",
    "print('drop_result 반환값 : ', drop_result)\n",
    "print(iris_df.head())"
   ]
  },
  {
   "cell_type": "code",
   "execution_count": 71,
   "id": "d7ce582f-d540-49b4-b621-50de7e3a8ce1",
   "metadata": {},
   "outputs": [
    {
     "name": "stdout",
     "output_type": "stream",
     "text": [
      "   sepal_length  sepal_width  petal_length  petal_width species\n",
      "3           4.6          3.1           1.5          0.2  setosa\n",
      "4           5.0          3.6           1.4          0.2  setosa\n",
      "5           5.4          3.9           1.7          0.4  setosa\n",
      "6           4.6          3.4           1.4          0.3  setosa\n",
      "7           5.0          3.4           1.5          0.2  setosa\n"
     ]
    }
   ],
   "source": [
    "# 226-03 행 데이터 삭제하기\n",
    "iris_drop_df = iris_df.drop([0, 1, 2], axis=0)\n",
    "print(iris_drop_df.head())"
   ]
  },
  {
   "cell_type": "code",
   "execution_count": 72,
   "id": "dae86a24-7369-4d02-b6d3-acefbf72f932",
   "metadata": {},
   "outputs": [
    {
     "name": "stdout",
     "output_type": "stream",
     "text": [
      "단일 칼럼 데이터 조회 : \n",
      " 0    5.1\n",
      "1    4.9\n",
      "2    4.7\n",
      "3    4.6\n",
      "4    5.0\n",
      "Name: sepal_length, dtype: float64\n",
      "\n",
      "복수 칼럼 데이터 조회 : \n",
      "    petal_length  petal_width\n",
      "0           1.4          0.2\n",
      "1           1.4          0.2\n",
      "2           1.3          0.2\n",
      "3           1.5          0.2\n",
      "4           1.4          0.2\n"
     ]
    }
   ],
   "source": [
    "# 227-01 칼럼명으로 데이터 조회\n",
    "print('단일 칼럼 데이터 조회 : \\n', iris_df['sepal_length'].head())\n",
    "print('\\n복수 칼럼 데이터 조회 : \\n', iris_df[['petal_length', 'petal_width']].head())"
   ]
  },
  {
   "cell_type": "code",
   "execution_count": 73,
   "id": "0824df2a-3b9b-4e5c-abd9-f7177d296609",
   "metadata": {},
   "outputs": [
    {
     "name": "stdout",
     "output_type": "stream",
     "text": [
      "   sepal_length  sepal_width  petal_length  petal_width species\n",
      "0           5.1          3.5           1.4          0.2  setosa\n",
      "1           4.9          3.0           1.4          0.2  setosa\n",
      "2           4.7          3.2           1.3          0.2  setosa\n"
     ]
    }
   ],
   "source": [
    "# 227-02 인덱스 슬라이싱으로 데이터 조회\n",
    "print(iris_df[0:3])"
   ]
  },
  {
   "cell_type": "code",
   "execution_count": 77,
   "id": "ac0b6654-955b-455d-a25d-0052a21d02f8",
   "metadata": {},
   "outputs": [
    {
     "name": "stdout",
     "output_type": "stream",
     "text": [
      "   sepal_length  sepal_width  petal_length  petal_width species\n",
      "0           5.1          3.5           1.4          0.2  setosa\n",
      "2           4.7          3.2           1.3          0.2  setosa\n",
      "3           4.6          3.1           1.5          0.2  setosa\n",
      "4           5.0          3.6           1.4          0.2  setosa\n",
      "5           5.4          3.9           1.7          0.4  setosa\n"
     ]
    }
   ],
   "source": [
    "# 227-03 논리형 인덱싱으로 데이터 조회\n",
    "print(iris_df[iris_df['sepal_width'] > 3.0].head())"
   ]
  },
  {
   "cell_type": "code",
   "execution_count": null,
   "id": "b755f1f2-eadb-4a36-ac28-5a85247400a4",
   "metadata": {},
   "outputs": [],
   "source": [
    "# 227-04 "
   ]
  },
  {
   "cell_type": "code",
   "execution_count": null,
   "id": "33fe69b5-8ecd-4fc7-8bc7-896819f7821a",
   "metadata": {},
   "outputs": [],
   "source": []
  },
  {
   "cell_type": "markdown",
   "id": "5626a45c-4026-47f7-996a-3cd48b5d7eb9",
   "metadata": {},
   "source": [
    "# 03. Scikit-learn"
   ]
  },
  {
   "cell_type": "code",
   "execution_count": 1,
   "id": "4902e302-b94c-4027-892f-bdd80f78f3a3",
   "metadata": {},
   "outputs": [
    {
     "name": "stdout",
     "output_type": "stream",
     "text": [
      "1.2.2\n"
     ]
    }
   ],
   "source": [
    "# 231-01 사이킷런 임포트\n",
    "import sklearn\n",
    "print(sklearn.__version__)"
   ]
  },
  {
   "cell_type": "code",
   "execution_count": 2,
   "id": "bb0747c9-f389-44a4-8fe2-bc8c491d05b3",
   "metadata": {},
   "outputs": [
    {
     "name": "stdout",
     "output_type": "stream",
     "text": [
      "붓꽃 데이터세트 타입 :  <class 'sklearn.utils._bunch.Bunch'>\n",
      "붓꽃 데이터세트 키 :  dict_keys(['data', 'target', 'frame', 'target_names', 'DESCR', 'feature_names', 'filename', 'data_module'])\n"
     ]
    }
   ],
   "source": [
    "# 234-01 붓꽃 데이터 세트 불러오기\n",
    "from sklearn.datasets import load_iris\n",
    "\n",
    "iris = load_iris()\n",
    "print('붓꽃 데이터세트 타입 : ', type(iris))\n",
    "\n",
    "keys = iris.keys()\n",
    "print('붓꽃 데이터세트 키 : ', keys)"
   ]
  },
  {
   "cell_type": "code",
   "execution_count": 8,
   "id": "0a1fa4ba-760f-424c-a14c-b7999c5915f6",
   "metadata": {
    "scrolled": true
   },
   "outputs": [
    {
     "name": "stdout",
     "output_type": "stream",
     "text": [
      "feature_names :\n",
      "['sepal length (cm)', 'sepal width (cm)', 'petal length (cm)', 'petal width (cm)']\n",
      "\n",
      "target_names :\n",
      "['setosa' 'versicolor' 'virginica']\n",
      "\n",
      "data :\n",
      "[[5.1 3.5 1.4 0.2]\n",
      " [4.9 3.  1.4 0.2]\n",
      " [4.7 3.2 1.3 0.2]\n",
      " [4.6 3.1 1.5 0.2]\n",
      " [5.  3.6 1.4 0.2]\n",
      " [5.4 3.9 1.7 0.4]\n",
      " [4.6 3.4 1.4 0.3]\n",
      " [5.  3.4 1.5 0.2]\n",
      " [4.4 2.9 1.4 0.2]\n",
      " [4.9 3.1 1.5 0.1]\n",
      " [5.4 3.7 1.5 0.2]\n",
      " [4.8 3.4 1.6 0.2]\n",
      " [4.8 3.  1.4 0.1]\n",
      " [4.3 3.  1.1 0.1]\n",
      " [5.8 4.  1.2 0.2]\n",
      " [5.7 4.4 1.5 0.4]\n",
      " [5.4 3.9 1.3 0.4]\n",
      " [5.1 3.5 1.4 0.3]\n",
      " [5.7 3.8 1.7 0.3]\n",
      " [5.1 3.8 1.5 0.3]\n",
      " [5.4 3.4 1.7 0.2]\n",
      " [5.1 3.7 1.5 0.4]\n",
      " [4.6 3.6 1.  0.2]\n",
      " [5.1 3.3 1.7 0.5]\n",
      " [4.8 3.4 1.9 0.2]\n",
      " [5.  3.  1.6 0.2]\n",
      " [5.  3.4 1.6 0.4]\n",
      " [5.2 3.5 1.5 0.2]\n",
      " [5.2 3.4 1.4 0.2]\n",
      " [4.7 3.2 1.6 0.2]\n",
      " [4.8 3.1 1.6 0.2]\n",
      " [5.4 3.4 1.5 0.4]\n",
      " [5.2 4.1 1.5 0.1]\n",
      " [5.5 4.2 1.4 0.2]\n",
      " [4.9 3.1 1.5 0.2]\n",
      " [5.  3.2 1.2 0.2]\n",
      " [5.5 3.5 1.3 0.2]\n",
      " [4.9 3.6 1.4 0.1]\n",
      " [4.4 3.  1.3 0.2]\n",
      " [5.1 3.4 1.5 0.2]\n",
      " [5.  3.5 1.3 0.3]\n",
      " [4.5 2.3 1.3 0.3]\n",
      " [4.4 3.2 1.3 0.2]\n",
      " [5.  3.5 1.6 0.6]\n",
      " [5.1 3.8 1.9 0.4]\n",
      " [4.8 3.  1.4 0.3]\n",
      " [5.1 3.8 1.6 0.2]\n",
      " [4.6 3.2 1.4 0.2]\n",
      " [5.3 3.7 1.5 0.2]\n",
      " [5.  3.3 1.4 0.2]\n",
      " [7.  3.2 4.7 1.4]\n",
      " [6.4 3.2 4.5 1.5]\n",
      " [6.9 3.1 4.9 1.5]\n",
      " [5.5 2.3 4.  1.3]\n",
      " [6.5 2.8 4.6 1.5]\n",
      " [5.7 2.8 4.5 1.3]\n",
      " [6.3 3.3 4.7 1.6]\n",
      " [4.9 2.4 3.3 1. ]\n",
      " [6.6 2.9 4.6 1.3]\n",
      " [5.2 2.7 3.9 1.4]\n",
      " [5.  2.  3.5 1. ]\n",
      " [5.9 3.  4.2 1.5]\n",
      " [6.  2.2 4.  1. ]\n",
      " [6.1 2.9 4.7 1.4]\n",
      " [5.6 2.9 3.6 1.3]\n",
      " [6.7 3.1 4.4 1.4]\n",
      " [5.6 3.  4.5 1.5]\n",
      " [5.8 2.7 4.1 1. ]\n",
      " [6.2 2.2 4.5 1.5]\n",
      " [5.6 2.5 3.9 1.1]\n",
      " [5.9 3.2 4.8 1.8]\n",
      " [6.1 2.8 4.  1.3]\n",
      " [6.3 2.5 4.9 1.5]\n",
      " [6.1 2.8 4.7 1.2]\n",
      " [6.4 2.9 4.3 1.3]\n",
      " [6.6 3.  4.4 1.4]\n",
      " [6.8 2.8 4.8 1.4]\n",
      " [6.7 3.  5.  1.7]\n",
      " [6.  2.9 4.5 1.5]\n",
      " [5.7 2.6 3.5 1. ]\n",
      " [5.5 2.4 3.8 1.1]\n",
      " [5.5 2.4 3.7 1. ]\n",
      " [5.8 2.7 3.9 1.2]\n",
      " [6.  2.7 5.1 1.6]\n",
      " [5.4 3.  4.5 1.5]\n",
      " [6.  3.4 4.5 1.6]\n",
      " [6.7 3.1 4.7 1.5]\n",
      " [6.3 2.3 4.4 1.3]\n",
      " [5.6 3.  4.1 1.3]\n",
      " [5.5 2.5 4.  1.3]\n",
      " [5.5 2.6 4.4 1.2]\n",
      " [6.1 3.  4.6 1.4]\n",
      " [5.8 2.6 4.  1.2]\n",
      " [5.  2.3 3.3 1. ]\n",
      " [5.6 2.7 4.2 1.3]\n",
      " [5.7 3.  4.2 1.2]\n",
      " [5.7 2.9 4.2 1.3]\n",
      " [6.2 2.9 4.3 1.3]\n",
      " [5.1 2.5 3.  1.1]\n",
      " [5.7 2.8 4.1 1.3]\n",
      " [6.3 3.3 6.  2.5]\n",
      " [5.8 2.7 5.1 1.9]\n",
      " [7.1 3.  5.9 2.1]\n",
      " [6.3 2.9 5.6 1.8]\n",
      " [6.5 3.  5.8 2.2]\n",
      " [7.6 3.  6.6 2.1]\n",
      " [4.9 2.5 4.5 1.7]\n",
      " [7.3 2.9 6.3 1.8]\n",
      " [6.7 2.5 5.8 1.8]\n",
      " [7.2 3.6 6.1 2.5]\n",
      " [6.5 3.2 5.1 2. ]\n",
      " [6.4 2.7 5.3 1.9]\n",
      " [6.8 3.  5.5 2.1]\n",
      " [5.7 2.5 5.  2. ]\n",
      " [5.8 2.8 5.1 2.4]\n",
      " [6.4 3.2 5.3 2.3]\n",
      " [6.5 3.  5.5 1.8]\n",
      " [7.7 3.8 6.7 2.2]\n",
      " [7.7 2.6 6.9 2.3]\n",
      " [6.  2.2 5.  1.5]\n",
      " [6.9 3.2 5.7 2.3]\n",
      " [5.6 2.8 4.9 2. ]\n",
      " [7.7 2.8 6.7 2. ]\n",
      " [6.3 2.7 4.9 1.8]\n",
      " [6.7 3.3 5.7 2.1]\n",
      " [7.2 3.2 6.  1.8]\n",
      " [6.2 2.8 4.8 1.8]\n",
      " [6.1 3.  4.9 1.8]\n",
      " [6.4 2.8 5.6 2.1]\n",
      " [7.2 3.  5.8 1.6]\n",
      " [7.4 2.8 6.1 1.9]\n",
      " [7.9 3.8 6.4 2. ]\n",
      " [6.4 2.8 5.6 2.2]\n",
      " [6.3 2.8 5.1 1.5]\n",
      " [6.1 2.6 5.6 1.4]\n",
      " [7.7 3.  6.1 2.3]\n",
      " [6.3 3.4 5.6 2.4]\n",
      " [6.4 3.1 5.5 1.8]\n",
      " [6.  3.  4.8 1.8]\n",
      " [6.9 3.1 5.4 2.1]\n",
      " [6.7 3.1 5.6 2.4]\n",
      " [6.9 3.1 5.1 2.3]\n",
      " [5.8 2.7 5.1 1.9]\n",
      " [6.8 3.2 5.9 2.3]\n",
      " [6.7 3.3 5.7 2.5]\n",
      " [6.7 3.  5.2 2.3]\n",
      " [6.3 2.5 5.  1.9]\n",
      " [6.5 3.  5.2 2. ]\n",
      " [6.2 3.4 5.4 2.3]\n",
      " [5.9 3.  5.1 1.8]]\n",
      "\n",
      "target :\n",
      "[0 0 0 0 0 0 0 0 0 0 0 0 0 0 0 0 0 0 0 0 0 0 0 0 0 0 0 0 0 0 0 0 0 0 0 0 0\n",
      " 0 0 0 0 0 0 0 0 0 0 0 0 0 1 1 1 1 1 1 1 1 1 1 1 1 1 1 1 1 1 1 1 1 1 1 1 1\n",
      " 1 1 1 1 1 1 1 1 1 1 1 1 1 1 1 1 1 1 1 1 1 1 1 1 1 1 2 2 2 2 2 2 2 2 2 2 2\n",
      " 2 2 2 2 2 2 2 2 2 2 2 2 2 2 2 2 2 2 2 2 2 2 2 2 2 2 2 2 2 2 2 2 2 2 2 2 2\n",
      " 2 2]\n"
     ]
    }
   ],
   "source": [
    "# 234-02 붓꽃 데이터세트 키 출력\n",
    "print('feature_names :')\n",
    "print(iris.feature_names)\n",
    "print('\\ntarget_names :')\n",
    "print(iris.target_names)\n",
    "print('\\ndata :')\n",
    "print(iris.data)\n",
    "print('\\ntarget :')\n",
    "print(iris.target)"
   ]
  },
  {
   "cell_type": "code",
   "execution_count": 9,
   "id": "f9d89d8d-b49a-4b10-917e-5599bf852f12",
   "metadata": {},
   "outputs": [
    {
     "name": "stdout",
     "output_type": "stream",
     "text": [
      "   sepal length (cm)  sepal width (cm)  petal length (cm)  petal width (cm)  \\\n",
      "0                5.1               3.5                1.4               0.2   \n",
      "1                4.9               3.0                1.4               0.2   \n",
      "2                4.7               3.2                1.3               0.2   \n",
      "3                4.6               3.1                1.5               0.2   \n",
      "4                5.0               3.6                1.4               0.2   \n",
      "\n",
      "   label  \n",
      "0      0  \n",
      "1      0  \n",
      "2      0  \n",
      "3      0  \n",
      "4      0  \n"
     ]
    }
   ],
   "source": [
    "# 235-01 붓꽃 데이터 세트 훑어보기\n",
    "import pandas as pd\n",
    "\n",
    "iris_df = pd.DataFrame(data = iris.data, columns = iris.feature_names)\n",
    "iris_df['label'] = iris.target\n",
    "print(iris_df.head())"
   ]
  },
  {
   "cell_type": "code",
   "execution_count": 11,
   "id": "ef73187f-b717-4efa-a2d5-d473c93b721a",
   "metadata": {},
   "outputs": [
    {
     "name": "stdout",
     "output_type": "stream",
     "text": [
      "train dataset\n",
      "x_train dataset :  120\n",
      "y_train dataset :  120\n",
      "\n",
      "test dataset\n",
      "x_test dataset :  30\n",
      "y_test dataset :  30\n"
     ]
    }
   ],
   "source": [
    "# 235-02 학습/테스트 데이터 세트 분할\n",
    "from sklearn.model_selection import train_test_split\n",
    "\n",
    "iris_data = iris.data\n",
    "iris_label = iris.target\n",
    "\n",
    "x_train, x_test, y_train, y_test = train_test_split(iris_data, iris_label, test_size = 0.2, random_state = 11)\n",
    "\n",
    "print('train dataset')\n",
    "print('x_train dataset : ', len(x_train))\n",
    "print('y_train dataset : ', len(y_train))\n",
    "print('\\ntest dataset')\n",
    "print('x_test dataset : ', len(x_test))\n",
    "print('y_test dataset : ', len(y_test))      "
   ]
  },
  {
   "cell_type": "code",
   "execution_count": 13,
   "id": "49c3be13-bbf8-48e8-b259-8632afd49250",
   "metadata": {},
   "outputs": [
    {
     "data": {
      "text/html": [
       "<style>#sk-container-id-1 {color: black;background-color: white;}#sk-container-id-1 pre{padding: 0;}#sk-container-id-1 div.sk-toggleable {background-color: white;}#sk-container-id-1 label.sk-toggleable__label {cursor: pointer;display: block;width: 100%;margin-bottom: 0;padding: 0.3em;box-sizing: border-box;text-align: center;}#sk-container-id-1 label.sk-toggleable__label-arrow:before {content: \"▸\";float: left;margin-right: 0.25em;color: #696969;}#sk-container-id-1 label.sk-toggleable__label-arrow:hover:before {color: black;}#sk-container-id-1 div.sk-estimator:hover label.sk-toggleable__label-arrow:before {color: black;}#sk-container-id-1 div.sk-toggleable__content {max-height: 0;max-width: 0;overflow: hidden;text-align: left;background-color: #f0f8ff;}#sk-container-id-1 div.sk-toggleable__content pre {margin: 0.2em;color: black;border-radius: 0.25em;background-color: #f0f8ff;}#sk-container-id-1 input.sk-toggleable__control:checked~div.sk-toggleable__content {max-height: 200px;max-width: 100%;overflow: auto;}#sk-container-id-1 input.sk-toggleable__control:checked~label.sk-toggleable__label-arrow:before {content: \"▾\";}#sk-container-id-1 div.sk-estimator input.sk-toggleable__control:checked~label.sk-toggleable__label {background-color: #d4ebff;}#sk-container-id-1 div.sk-label input.sk-toggleable__control:checked~label.sk-toggleable__label {background-color: #d4ebff;}#sk-container-id-1 input.sk-hidden--visually {border: 0;clip: rect(1px 1px 1px 1px);clip: rect(1px, 1px, 1px, 1px);height: 1px;margin: -1px;overflow: hidden;padding: 0;position: absolute;width: 1px;}#sk-container-id-1 div.sk-estimator {font-family: monospace;background-color: #f0f8ff;border: 1px dotted black;border-radius: 0.25em;box-sizing: border-box;margin-bottom: 0.5em;}#sk-container-id-1 div.sk-estimator:hover {background-color: #d4ebff;}#sk-container-id-1 div.sk-parallel-item::after {content: \"\";width: 100%;border-bottom: 1px solid gray;flex-grow: 1;}#sk-container-id-1 div.sk-label:hover label.sk-toggleable__label {background-color: #d4ebff;}#sk-container-id-1 div.sk-serial::before {content: \"\";position: absolute;border-left: 1px solid gray;box-sizing: border-box;top: 0;bottom: 0;left: 50%;z-index: 0;}#sk-container-id-1 div.sk-serial {display: flex;flex-direction: column;align-items: center;background-color: white;padding-right: 0.2em;padding-left: 0.2em;position: relative;}#sk-container-id-1 div.sk-item {position: relative;z-index: 1;}#sk-container-id-1 div.sk-parallel {display: flex;align-items: stretch;justify-content: center;background-color: white;position: relative;}#sk-container-id-1 div.sk-item::before, #sk-container-id-1 div.sk-parallel-item::before {content: \"\";position: absolute;border-left: 1px solid gray;box-sizing: border-box;top: 0;bottom: 0;left: 50%;z-index: -1;}#sk-container-id-1 div.sk-parallel-item {display: flex;flex-direction: column;z-index: 1;position: relative;background-color: white;}#sk-container-id-1 div.sk-parallel-item:first-child::after {align-self: flex-end;width: 50%;}#sk-container-id-1 div.sk-parallel-item:last-child::after {align-self: flex-start;width: 50%;}#sk-container-id-1 div.sk-parallel-item:only-child::after {width: 0;}#sk-container-id-1 div.sk-dashed-wrapped {border: 1px dashed gray;margin: 0 0.4em 0.5em 0.4em;box-sizing: border-box;padding-bottom: 0.4em;background-color: white;}#sk-container-id-1 div.sk-label label {font-family: monospace;font-weight: bold;display: inline-block;line-height: 1.2em;}#sk-container-id-1 div.sk-label-container {text-align: center;}#sk-container-id-1 div.sk-container {/* jupyter's `normalize.less` sets `[hidden] { display: none; }` but bootstrap.min.css set `[hidden] { display: none !important; }` so we also need the `!important` here to be able to override the default hidden behavior on the sphinx rendered scikit-learn.org. See: https://github.com/scikit-learn/scikit-learn/issues/21755 */display: inline-block !important;position: relative;}#sk-container-id-1 div.sk-text-repr-fallback {display: none;}</style><div id=\"sk-container-id-1\" class=\"sk-top-container\"><div class=\"sk-text-repr-fallback\"><pre>DecisionTreeClassifier(random_state=11)</pre><b>In a Jupyter environment, please rerun this cell to show the HTML representation or trust the notebook. <br />On GitHub, the HTML representation is unable to render, please try loading this page with nbviewer.org.</b></div><div class=\"sk-container\" hidden><div class=\"sk-item\"><div class=\"sk-estimator sk-toggleable\"><input class=\"sk-toggleable__control sk-hidden--visually\" id=\"sk-estimator-id-1\" type=\"checkbox\" checked><label for=\"sk-estimator-id-1\" class=\"sk-toggleable__label sk-toggleable__label-arrow\">DecisionTreeClassifier</label><div class=\"sk-toggleable__content\"><pre>DecisionTreeClassifier(random_state=11)</pre></div></div></div></div></div>"
      ],
      "text/plain": [
       "DecisionTreeClassifier(random_state=11)"
      ]
     },
     "execution_count": 13,
     "metadata": {},
     "output_type": "execute_result"
    }
   ],
   "source": [
    "# 235-03 의사결정 트리 머신러닝 학습\n",
    "from sklearn.tree import DecisionTreeClassifier\n",
    "\n",
    "dt_clf = DecisionTreeClassifier(random_state = 11)\n",
    "dt_clf.fit(x_train, y_train)"
   ]
  },
  {
   "cell_type": "code",
   "execution_count": 16,
   "id": "65a3fb09-c149-43c1-91b4-ac931aa5dc58",
   "metadata": {},
   "outputs": [
    {
     "name": "stdout",
     "output_type": "stream",
     "text": [
      "예측 정확도 :  0.9333333333333333\n"
     ]
    }
   ],
   "source": [
    "# 235-04 의사결정 트리 머신러닝 테스트/평가\n",
    "from sklearn.metrics import accuracy_score\n",
    "\n",
    "pred = dt_clf.predict(x_test)\n",
    "ac_score = accuracy_score(y_test, pred)\n",
    "\n",
    "print('예측 정확도 : ', ac_score)"
   ]
  },
  {
   "cell_type": "code",
   "execution_count": 17,
   "id": "2a467fdc-f25a-483c-acca-b9d4911a6b9e",
   "metadata": {},
   "outputs": [
    {
     "name": "stdout",
     "output_type": "stream",
     "text": [
      "인코딩 변환값 :  [0 1 2 3 0 1 3 3]\n",
      "인코딩 클래스 :  ['TV' '냉장고' '전자레인지' '컴퓨터']\n"
     ]
    }
   ],
   "source": [
    "# 236-01 레이블 인코딩\n",
    "from sklearn.preprocessing import LabelEncoder\n",
    "\n",
    "items = ['TV', '냉장고', '전자레인지', '컴퓨터', 'TV', '냉장고', '컴퓨터', '컴퓨터']\n",
    "\n",
    "encoder = LabelEncoder()\n",
    "encoder.fit(items)\n",
    "labels = encoder.transform(items)\n",
    "\n",
    "print('인코딩 변환값 : ', labels)\n",
    "print('인코딩 클래스 : ', encoder.classes_)\n",
    "        "
   ]
  },
  {
   "cell_type": "code",
   "execution_count": 18,
   "id": "d11c8969-40dd-4dc9-b7d6-649cff100fe9",
   "metadata": {},
   "outputs": [
    {
     "name": "stdout",
     "output_type": "stream",
     "text": [
      "디코딩 원본값 :  ['TV' '냉장고' '전자레인지' '컴퓨터' 'TV' '냉장고' '컴퓨터' '컴퓨터']\n"
     ]
    }
   ],
   "source": [
    "# 236-02 레이블 디코딩\n",
    "origins = encoder.inverse_transform([0, 1, 2, 3, 0, 1, 3, 3])\n",
    "\n",
    "print('디코딩 원본값 : ', origins)"
   ]
  },
  {
   "cell_type": "code",
   "execution_count": 23,
   "id": "6bef31a0-f108-4e92-ad7a-f59f96832efe",
   "metadata": {},
   "outputs": [
    {
     "name": "stdout",
     "output_type": "stream",
     "text": [
      "[[0]\n",
      " [1]\n",
      " [2]\n",
      " [3]\n",
      " [0]\n",
      " [1]\n",
      " [3]\n",
      " [3]]\n",
      "원-핫 인코딩 데이터\n",
      "[[1. 0. 0. 0.]\n",
      " [0. 1. 0. 0.]\n",
      " [0. 0. 1. 0.]\n",
      " [0. 0. 0. 1.]\n",
      " [1. 0. 0. 0.]\n",
      " [0. 1. 0. 0.]\n",
      " [0. 0. 0. 1.]\n",
      " [0. 0. 0. 1.]]\n",
      "원-핫 인코딩 데이터 차원\n",
      "(8, 4)\n"
     ]
    }
   ],
   "source": [
    "# 236-03 원-핫 인코딩\n",
    "from sklearn.preprocessing import OneHotEncoder\n",
    "import numpy as np\n",
    "\n",
    "labels = labels.reshape(-1, 1)  # 숫자형으로 변환된 값을 2차원 데이터로 변환\n",
    "print(labels)\n",
    "\n",
    "oh_encoder = OneHotEncoder()\n",
    "oh_encoder.fit(labels)\n",
    "oh_labels = oh_encoder.transform(labels)\n",
    "\n",
    "print('원-핫 인코딩 데이터')\n",
    "print(oh_labels.toarray())\n",
    "print('원-핫 인코딩 데이터 차원')\n",
    "print(oh_labels.shape)"
   ]
  },
  {
   "cell_type": "code",
   "execution_count": 24,
   "id": "2965c9d0-fcf5-442e-9cfb-bd24c6988aff",
   "metadata": {},
   "outputs": [
    {
     "data": {
      "text/html": [
       "<div>\n",
       "<style scoped>\n",
       "    .dataframe tbody tr th:only-of-type {\n",
       "        vertical-align: middle;\n",
       "    }\n",
       "\n",
       "    .dataframe tbody tr th {\n",
       "        vertical-align: top;\n",
       "    }\n",
       "\n",
       "    .dataframe thead th {\n",
       "        text-align: right;\n",
       "    }\n",
       "</style>\n",
       "<table border=\"1\" class=\"dataframe\">\n",
       "  <thead>\n",
       "    <tr style=\"text-align: right;\">\n",
       "      <th></th>\n",
       "      <th>item_TV</th>\n",
       "      <th>item_냉장고</th>\n",
       "      <th>item_전자레인지</th>\n",
       "      <th>item_컴퓨터</th>\n",
       "    </tr>\n",
       "  </thead>\n",
       "  <tbody>\n",
       "    <tr>\n",
       "      <th>0</th>\n",
       "      <td>True</td>\n",
       "      <td>False</td>\n",
       "      <td>False</td>\n",
       "      <td>False</td>\n",
       "    </tr>\n",
       "    <tr>\n",
       "      <th>1</th>\n",
       "      <td>False</td>\n",
       "      <td>True</td>\n",
       "      <td>False</td>\n",
       "      <td>False</td>\n",
       "    </tr>\n",
       "    <tr>\n",
       "      <th>2</th>\n",
       "      <td>False</td>\n",
       "      <td>False</td>\n",
       "      <td>True</td>\n",
       "      <td>False</td>\n",
       "    </tr>\n",
       "    <tr>\n",
       "      <th>3</th>\n",
       "      <td>False</td>\n",
       "      <td>False</td>\n",
       "      <td>False</td>\n",
       "      <td>True</td>\n",
       "    </tr>\n",
       "    <tr>\n",
       "      <th>4</th>\n",
       "      <td>True</td>\n",
       "      <td>False</td>\n",
       "      <td>False</td>\n",
       "      <td>False</td>\n",
       "    </tr>\n",
       "    <tr>\n",
       "      <th>5</th>\n",
       "      <td>False</td>\n",
       "      <td>True</td>\n",
       "      <td>False</td>\n",
       "      <td>False</td>\n",
       "    </tr>\n",
       "    <tr>\n",
       "      <th>6</th>\n",
       "      <td>False</td>\n",
       "      <td>False</td>\n",
       "      <td>False</td>\n",
       "      <td>True</td>\n",
       "    </tr>\n",
       "    <tr>\n",
       "      <th>7</th>\n",
       "      <td>False</td>\n",
       "      <td>False</td>\n",
       "      <td>False</td>\n",
       "      <td>True</td>\n",
       "    </tr>\n",
       "  </tbody>\n",
       "</table>\n",
       "</div>"
      ],
      "text/plain": [
       "   item_TV  item_냉장고  item_전자레인지  item_컴퓨터\n",
       "0     True     False       False     False\n",
       "1    False      True       False     False\n",
       "2    False     False        True     False\n",
       "3    False     False       False      True\n",
       "4     True     False       False     False\n",
       "5    False      True       False     False\n",
       "6    False     False       False      True\n",
       "7    False     False       False      True"
      ]
     },
     "execution_count": 24,
     "metadata": {},
     "output_type": "execute_result"
    }
   ],
   "source": [
    "# 236-04 판다스의 원-핫 인코딩\n",
    "import pandas as pd\n",
    "\n",
    "item_df = pd.DataFrame({'item' : items})\n",
    "pd.get_dummies(item_df)"
   ]
  },
  {
   "cell_type": "code",
   "execution_count": 25,
   "id": "a173f202-d99f-4c39-a690-8aab998026bd",
   "metadata": {},
   "outputs": [
    {
     "name": "stdout",
     "output_type": "stream",
     "text": [
      "feature 들의 평균 값 : \n",
      " sepal length (cm)    5.843333\n",
      "sepal width (cm)     3.057333\n",
      "petal length (cm)    3.758000\n",
      "petal width (cm)     1.199333\n",
      "dtype: float64\n",
      "feature 들의 분산 값 : \n",
      " sepal length (cm)    0.685694\n",
      "sepal width (cm)     0.189979\n",
      "petal length (cm)    3.116278\n",
      "petal width (cm)     0.581006\n",
      "dtype: float64\n"
     ]
    }
   ],
   "source": [
    "# 236-05 스케일링 데이터 세트 훑어보기\n",
    "from sklearn.datasets import load_iris\n",
    "\n",
    "iris = load_iris()\n",
    "iris_data = iris.data\n",
    "iris_df = pd.DataFrame(data = iris_data, columns = iris.feature_names)\n",
    "\n",
    "print('feature 들의 평균 값 : \\n', iris_df.mean())\n",
    "print('feature 들의 분산 값 : \\n', iris_df.var())"
   ]
  },
  {
   "cell_type": "code",
   "execution_count": 26,
   "id": "884d9e20-6666-4806-8df7-c8b9fd407588",
   "metadata": {},
   "outputs": [
    {
     "name": "stdout",
     "output_type": "stream",
     "text": [
      "feature 들의 평균 값 : \n",
      " sepal length (cm)   -1.690315e-15\n",
      "sepal width (cm)    -1.842970e-15\n",
      "petal length (cm)   -1.698641e-15\n",
      "petal width (cm)    -1.409243e-15\n",
      "dtype: float64\n",
      "feature 들의 분산 값 : \n",
      " sepal length (cm)    1.006711\n",
      "sepal width (cm)     1.006711\n",
      "petal length (cm)    1.006711\n",
      "petal width (cm)     1.006711\n",
      "dtype: float64\n"
     ]
    }
   ],
   "source": [
    "# 236-06 표준화\n",
    "from sklearn.preprocessing import StandardScaler\n",
    "\n",
    "scaler = StandardScaler()   # 표준화 객체를 생성하고,\n",
    "scaler.fit(iris_df)         # iris_df 데이터를 학습시키고, 변환된 데이터를 가진다.\n",
    "iris_scaled = scaler.transform(iris_df) # 변환된 데이터를 호출한다.\n",
    "iris_df_scaled = pd.DataFrame(data = iris_scaled, columns = iris.feature_names)\n",
    "\n",
    "print('feature 들의 평균 값 : \\n', iris_df_scaled.mean())\n",
    "print('feature 들의 분산 값 : \\n', iris_df_scaled.var())\n"
   ]
  },
  {
   "cell_type": "code",
   "execution_count": 27,
   "id": "23531e3b-c366-4271-8cb5-8c50e5b32fd3",
   "metadata": {},
   "outputs": [
    {
     "name": "stdout",
     "output_type": "stream",
     "text": [
      "feature 들의 최소 값 : \n",
      " sepal length (cm)    0.0\n",
      "sepal width (cm)     0.0\n",
      "petal length (cm)    0.0\n",
      "petal width (cm)     0.0\n",
      "dtype: float64\n",
      "feature 들의 최대 값 : \n",
      " sepal length (cm)    1.0\n",
      "sepal width (cm)     1.0\n",
      "petal length (cm)    1.0\n",
      "petal width (cm)     1.0\n",
      "dtype: float64\n"
     ]
    }
   ],
   "source": [
    "# 236-07 최대-최소 정규화\n",
    "from sklearn.preprocessing import MinMaxScaler\n",
    "\n",
    "scaler = MinMaxScaler()\n",
    "scaler.fit(iris_df)\n",
    "iris_scaled = scaler.transform(iris_df)\n",
    "iris_df_scaled = pd.DataFrame(data = iris_scaled, columns = iris.feature_names)\n",
    "\n",
    "print('feature 들의 최소 값 : \\n', iris_df_scaled.min())\n",
    "print('feature 들의 최대 값 : \\n', iris_df_scaled.max())"
   ]
  },
  {
   "cell_type": "code",
   "execution_count": 4,
   "id": "646f4071-dcdb-4eb6-b948-7449ee77c94f",
   "metadata": {},
   "outputs": [
    {
     "name": "stdout",
     "output_type": "stream",
     "text": [
      "원본 train_array 데이터 :  [ 0  1  2  3  4  5  6  7  8  9 10]\n",
      "Scaled train_array 데이터 :  [0.  0.1 0.2 0.3 0.4 0.5 0.6 0.7 0.8 0.9 1. ]\n",
      "원본 train_array 데이터 :  [0 1 2 3 4 5]\n",
      "Scaled train_array 데이터 :  [0.  0.1 0.2 0.3 0.4 0.5]\n"
     ]
    }
   ],
   "source": [
    "# 236-08 스케일링 주의사항\n",
    "from sklearn.preprocessing import MinMaxScaler\n",
    "import numpy as np\n",
    "\n",
    "train_array = np.arange(0,11).reshape(-1,1)\n",
    "test_array = np.arange(0,6).reshape(-1,1)\n",
    "\n",
    "scaler = MinMaxScaler()\n",
    "scaler.fit(train_array)\n",
    "train_scaled = scaler.transform(train_array)\n",
    "\n",
    "print('원본 train_array 데이터 : ', np.round(train_array.reshape(-1), 2))\n",
    "print('Scaled train_array 데이터 : ', np.round(train_scaled.reshape(-1), 2))\n",
    "\n",
    "#scaler.fit(test_array)              # 테스트 데이터로는 학습하지 않는다.\n",
    "test_scaled = scaler.transform(test_array)\n",
    "\n",
    "print('원본 train_array 데이터 : ', np.round(test_array.reshape(-1), 2))\n",
    "print('Scaled train_array 데이터 : ', np.round(test_scaled.reshape(-1), 2))\n"
   ]
  },
  {
   "cell_type": "code",
   "execution_count": null,
   "id": "ffb8b482-edf9-47c1-9eac-180eb0104070",
   "metadata": {},
   "outputs": [],
   "source": []
  },
  {
   "cell_type": "code",
   "execution_count": null,
   "id": "a0e67dcf-9022-4da4-a359-8d61af5662b0",
   "metadata": {},
   "outputs": [],
   "source": []
  }
 ],
 "metadata": {
  "kernelspec": {
   "display_name": "Python 3 (ipykernel)",
   "language": "python",
   "name": "python3"
  },
  "language_info": {
   "codemirror_mode": {
    "name": "ipython",
    "version": 3
   },
   "file_extension": ".py",
   "mimetype": "text/x-python",
   "name": "python",
   "nbconvert_exporter": "python",
   "pygments_lexer": "ipython3",
   "version": "3.11.7"
  }
 },
 "nbformat": 4,
 "nbformat_minor": 5
}
