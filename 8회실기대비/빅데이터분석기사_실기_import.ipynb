{
  "nbformat": 4,
  "nbformat_minor": 0,
  "metadata": {
    "colab": {
      "provenance": []
    },
    "kernelspec": {
      "name": "python3",
      "display_name": "Python 3"
    },
    "language_info": {
      "name": "python"
    }
  },
  "cells": [
    {
      "cell_type": "markdown",
      "source": [
        "# help() 함수"
      ],
      "metadata": {
        "id": "ONxJagfARAoE"
      }
    },
    {
      "cell_type": "code",
      "execution_count": 2,
      "metadata": {
        "colab": {
          "base_uri": "https://localhost:8080/"
        },
        "id": "JP1Cg1QbDqS3",
        "outputId": "6748e935-5cac-4f5a-e459-aa82b64866f4"
      },
      "outputs": [
        {
          "output_type": "stream",
          "name": "stdout",
          "text": [
            "Help on package sklearn:\n",
            "\n",
            "NAME\n",
            "    sklearn\n",
            "\n",
            "DESCRIPTION\n",
            "    Machine learning module for Python\n",
            "    ==================================\n",
            "    \n",
            "    sklearn is a Python module integrating classical machine\n",
            "    learning algorithms in the tightly-knit world of scientific Python\n",
            "    packages (numpy, scipy, matplotlib).\n",
            "    \n",
            "    It aims to provide simple and efficient solutions to learning problems\n",
            "    that are accessible to everybody and reusable in various contexts:\n",
            "    machine-learning as a versatile tool for science and engineering.\n",
            "    \n",
            "    See http://scikit-learn.org for complete documentation.\n",
            "\n",
            "PACKAGE CONTENTS\n",
            "    __check_build (package)\n",
            "    _build_utils (package)\n",
            "    _config\n",
            "    _distributor_init\n",
            "    _isotonic\n",
            "    _loss (package)\n",
            "    _min_dependencies\n",
            "    base\n",
            "    calibration\n",
            "    cluster (package)\n",
            "    compose (package)\n",
            "    conftest\n",
            "    covariance (package)\n",
            "    cross_decomposition (package)\n",
            "    datasets (package)\n",
            "    decomposition (package)\n",
            "    discriminant_analysis\n",
            "    dummy\n",
            "    ensemble (package)\n",
            "    exceptions\n",
            "    experimental (package)\n",
            "    externals (package)\n",
            "    feature_extraction (package)\n",
            "    feature_selection (package)\n",
            "    gaussian_process (package)\n",
            "    impute (package)\n",
            "    inspection (package)\n",
            "    isotonic\n",
            "    kernel_approximation\n",
            "    kernel_ridge\n",
            "    linear_model (package)\n",
            "    manifold (package)\n",
            "    metrics (package)\n",
            "    mixture (package)\n",
            "    model_selection (package)\n",
            "    multiclass\n",
            "    multioutput\n",
            "    naive_bayes\n",
            "    neighbors (package)\n",
            "    neural_network (package)\n",
            "    pipeline\n",
            "    preprocessing (package)\n",
            "    random_projection\n",
            "    semi_supervised (package)\n",
            "    svm (package)\n",
            "    tests (package)\n",
            "    tree (package)\n",
            "    utils (package)\n",
            "\n",
            "FUNCTIONS\n",
            "    clone(estimator, *, safe=True)\n",
            "        Construct a new unfitted estimator with the same parameters.\n",
            "        \n",
            "        Clone does a deep copy of the model in an estimator\n",
            "        without actually copying attached data. It returns a new estimator\n",
            "        with the same parameters that has not been fitted on any data.\n",
            "        \n",
            "        Parameters\n",
            "        ----------\n",
            "        estimator : {list, tuple, set} of estimator instance or a single             estimator instance\n",
            "            The estimator or group of estimators to be cloned.\n",
            "        safe : bool, default=True\n",
            "            If safe is False, clone will fall back to a deep copy on objects\n",
            "            that are not estimators.\n",
            "        \n",
            "        Returns\n",
            "        -------\n",
            "        estimator : object\n",
            "            The deep copy of the input, an estimator if input is an estimator.\n",
            "        \n",
            "        Notes\n",
            "        -----\n",
            "        If the estimator's `random_state` parameter is an integer (or if the\n",
            "        estimator doesn't have a `random_state` parameter), an *exact clone* is\n",
            "        returned: the clone and the original estimator will give the exact same\n",
            "        results. Otherwise, *statistical clone* is returned: the clone might\n",
            "        return different results from the original estimator. More details can be\n",
            "        found in :ref:`randomness`.\n",
            "    \n",
            "    config_context(*, assume_finite=None, working_memory=None, print_changed_only=None, display=None, pairwise_dist_chunk_size=None, enable_cython_pairwise_dist=None, array_api_dispatch=None, transform_output=None)\n",
            "        Context manager for global scikit-learn configuration.\n",
            "        \n",
            "        Parameters\n",
            "        ----------\n",
            "        assume_finite : bool, default=None\n",
            "            If True, validation for finiteness will be skipped,\n",
            "            saving time, but leading to potential crashes. If\n",
            "            False, validation for finiteness will be performed,\n",
            "            avoiding error. If None, the existing value won't change.\n",
            "            The default value is False.\n",
            "        \n",
            "        working_memory : int, default=None\n",
            "            If set, scikit-learn will attempt to limit the size of temporary arrays\n",
            "            to this number of MiB (per job when parallelised), often saving both\n",
            "            computation time and memory on expensive operations that can be\n",
            "            performed in chunks. If None, the existing value won't change.\n",
            "            The default value is 1024.\n",
            "        \n",
            "        print_changed_only : bool, default=None\n",
            "            If True, only the parameters that were set to non-default\n",
            "            values will be printed when printing an estimator. For example,\n",
            "            ``print(SVC())`` while True will only print 'SVC()', but would print\n",
            "            'SVC(C=1.0, cache_size=200, ...)' with all the non-changed parameters\n",
            "            when False. If None, the existing value won't change.\n",
            "            The default value is True.\n",
            "        \n",
            "            .. versionchanged:: 0.23\n",
            "               Default changed from False to True.\n",
            "        \n",
            "        display : {'text', 'diagram'}, default=None\n",
            "            If 'diagram', estimators will be displayed as a diagram in a Jupyter\n",
            "            lab or notebook context. If 'text', estimators will be displayed as\n",
            "            text. If None, the existing value won't change.\n",
            "            The default value is 'diagram'.\n",
            "        \n",
            "            .. versionadded:: 0.23\n",
            "        \n",
            "        pairwise_dist_chunk_size : int, default=None\n",
            "            The number of row vectors per chunk for the accelerated pairwise-\n",
            "            distances reduction backend. Default is 256 (suitable for most of\n",
            "            modern laptops' caches and architectures).\n",
            "        \n",
            "            Intended for easier benchmarking and testing of scikit-learn internals.\n",
            "            End users are not expected to benefit from customizing this configuration\n",
            "            setting.\n",
            "        \n",
            "            .. versionadded:: 1.1\n",
            "        \n",
            "        enable_cython_pairwise_dist : bool, default=None\n",
            "            Use the accelerated pairwise-distances reduction backend when\n",
            "            possible. Global default: True.\n",
            "        \n",
            "            Intended for easier benchmarking and testing of scikit-learn internals.\n",
            "            End users are not expected to benefit from customizing this configuration\n",
            "            setting.\n",
            "        \n",
            "            .. versionadded:: 1.1\n",
            "        \n",
            "        array_api_dispatch : bool, default=None\n",
            "            Use Array API dispatching when inputs follow the Array API standard.\n",
            "            Default is False.\n",
            "        \n",
            "            See the :ref:`User Guide <array_api>` for more details.\n",
            "        \n",
            "            .. versionadded:: 1.2\n",
            "        \n",
            "        transform_output : str, default=None\n",
            "            Configure output of `transform` and `fit_transform`.\n",
            "        \n",
            "            See :ref:`sphx_glr_auto_examples_miscellaneous_plot_set_output.py`\n",
            "            for an example on how to use the API.\n",
            "        \n",
            "            - `\"default\"`: Default output format of a transformer\n",
            "            - `\"pandas\"`: DataFrame output\n",
            "            - `None`: Transform configuration is unchanged\n",
            "        \n",
            "            .. versionadded:: 1.2\n",
            "        \n",
            "        Yields\n",
            "        ------\n",
            "        None.\n",
            "        \n",
            "        See Also\n",
            "        --------\n",
            "        set_config : Set global scikit-learn configuration.\n",
            "        get_config : Retrieve current values of the global configuration.\n",
            "        \n",
            "        Notes\n",
            "        -----\n",
            "        All settings, not just those presently modified, will be returned to\n",
            "        their previous values when the context manager is exited.\n",
            "        \n",
            "        Examples\n",
            "        --------\n",
            "        >>> import sklearn\n",
            "        >>> from sklearn.utils.validation import assert_all_finite\n",
            "        >>> with sklearn.config_context(assume_finite=True):\n",
            "        ...     assert_all_finite([float('nan')])\n",
            "        >>> with sklearn.config_context(assume_finite=True):\n",
            "        ...     with sklearn.config_context(assume_finite=False):\n",
            "        ...         assert_all_finite([float('nan')])\n",
            "        Traceback (most recent call last):\n",
            "        ...\n",
            "        ValueError: Input contains NaN...\n",
            "    \n",
            "    get_config()\n",
            "        Retrieve current values for configuration set by :func:`set_config`.\n",
            "        \n",
            "        Returns\n",
            "        -------\n",
            "        config : dict\n",
            "            Keys are parameter names that can be passed to :func:`set_config`.\n",
            "        \n",
            "        See Also\n",
            "        --------\n",
            "        config_context : Context manager for global scikit-learn configuration.\n",
            "        set_config : Set global scikit-learn configuration.\n",
            "    \n",
            "    set_config(assume_finite=None, working_memory=None, print_changed_only=None, display=None, pairwise_dist_chunk_size=None, enable_cython_pairwise_dist=None, array_api_dispatch=None, transform_output=None)\n",
            "        Set global scikit-learn configuration\n",
            "        \n",
            "        .. versionadded:: 0.19\n",
            "        \n",
            "        Parameters\n",
            "        ----------\n",
            "        assume_finite : bool, default=None\n",
            "            If True, validation for finiteness will be skipped,\n",
            "            saving time, but leading to potential crashes. If\n",
            "            False, validation for finiteness will be performed,\n",
            "            avoiding error.  Global default: False.\n",
            "        \n",
            "            .. versionadded:: 0.19\n",
            "        \n",
            "        working_memory : int, default=None\n",
            "            If set, scikit-learn will attempt to limit the size of temporary arrays\n",
            "            to this number of MiB (per job when parallelised), often saving both\n",
            "            computation time and memory on expensive operations that can be\n",
            "            performed in chunks. Global default: 1024.\n",
            "        \n",
            "            .. versionadded:: 0.20\n",
            "        \n",
            "        print_changed_only : bool, default=None\n",
            "            If True, only the parameters that were set to non-default\n",
            "            values will be printed when printing an estimator. For example,\n",
            "            ``print(SVC())`` while True will only print 'SVC()' while the default\n",
            "            behaviour would be to print 'SVC(C=1.0, cache_size=200, ...)' with\n",
            "            all the non-changed parameters.\n",
            "        \n",
            "            .. versionadded:: 0.21\n",
            "        \n",
            "        display : {'text', 'diagram'}, default=None\n",
            "            If 'diagram', estimators will be displayed as a diagram in a Jupyter\n",
            "            lab or notebook context. If 'text', estimators will be displayed as\n",
            "            text. Default is 'diagram'.\n",
            "        \n",
            "            .. versionadded:: 0.23\n",
            "        \n",
            "        pairwise_dist_chunk_size : int, default=None\n",
            "            The number of row vectors per chunk for the accelerated pairwise-\n",
            "            distances reduction backend. Default is 256 (suitable for most of\n",
            "            modern laptops' caches and architectures).\n",
            "        \n",
            "            Intended for easier benchmarking and testing of scikit-learn internals.\n",
            "            End users are not expected to benefit from customizing this configuration\n",
            "            setting.\n",
            "        \n",
            "            .. versionadded:: 1.1\n",
            "        \n",
            "        enable_cython_pairwise_dist : bool, default=None\n",
            "            Use the accelerated pairwise-distances reduction backend when\n",
            "            possible. Global default: True.\n",
            "        \n",
            "            Intended for easier benchmarking and testing of scikit-learn internals.\n",
            "            End users are not expected to benefit from customizing this configuration\n",
            "            setting.\n",
            "        \n",
            "            .. versionadded:: 1.1\n",
            "        \n",
            "        array_api_dispatch : bool, default=None\n",
            "            Use Array API dispatching when inputs follow the Array API standard.\n",
            "            Default is False.\n",
            "        \n",
            "            See the :ref:`User Guide <array_api>` for more details.\n",
            "        \n",
            "            .. versionadded:: 1.2\n",
            "        \n",
            "        transform_output : str, default=None\n",
            "            Configure output of `transform` and `fit_transform`.\n",
            "        \n",
            "            See :ref:`sphx_glr_auto_examples_miscellaneous_plot_set_output.py`\n",
            "            for an example on how to use the API.\n",
            "        \n",
            "            - `\"default\"`: Default output format of a transformer\n",
            "            - `\"pandas\"`: DataFrame output\n",
            "            - `None`: Transform configuration is unchanged\n",
            "        \n",
            "            .. versionadded:: 1.2\n",
            "        \n",
            "        See Also\n",
            "        --------\n",
            "        config_context : Context manager for global scikit-learn configuration.\n",
            "        get_config : Retrieve current values of the global configuration.\n",
            "    \n",
            "    show_versions()\n",
            "        Print useful debugging information\"\n",
            "        \n",
            "        .. versionadded:: 0.20\n",
            "\n",
            "DATA\n",
            "    __SKLEARN_SETUP__ = False\n",
            "    __all__ = ['calibration', 'cluster', 'covariance', 'cross_decompositio...\n",
            "\n",
            "VERSION\n",
            "    1.2.2\n",
            "\n",
            "FILE\n",
            "    /usr/local/lib/python3.10/dist-packages/sklearn/__init__.py\n",
            "\n",
            "\n",
            "None\n"
          ]
        }
      ],
      "source": [
        "import sklearn\n",
        "print(help(sklearn))"
      ]
    },
    {
      "cell_type": "markdown",
      "source": [
        "# dir() 함수\n",
        "- sklearn은 __all__ 을 활용\n",
        "- 그 외에는 dir() 함수 활용\n"
      ],
      "metadata": {
        "id": "ABURxSKfREou"
      }
    },
    {
      "cell_type": "code",
      "source": [
        "import xgboost\n",
        "print(dir(xgboost))"
      ],
      "metadata": {
        "colab": {
          "base_uri": "https://localhost:8080/"
        },
        "id": "NK5tsnDKGUVQ",
        "outputId": "d7ce41d9-8c64-45f0-9bb1-1fa7ec9de60d"
      },
      "execution_count": 4,
      "outputs": [
        {
          "output_type": "stream",
          "name": "stdout",
          "text": [
            "['Booster', 'DMatrix', 'DataIter', 'DeviceQuantileDMatrix', 'QuantileDMatrix', 'RabitTracker', 'XGBClassifier', 'XGBModel', 'XGBRFClassifier', 'XGBRFRegressor', 'XGBRanker', 'XGBRegressor', '__all__', '__builtins__', '__cached__', '__doc__', '__file__', '__loader__', '__name__', '__package__', '__path__', '__spec__', '__version__', '_py_version', '_typing', 'build_info', 'callback', 'collective', 'compat', 'config', 'config_context', 'core', 'cv', 'dask', 'data', 'get_config', 'libpath', 'plot_importance', 'plot_tree', 'plotting', 'rabit', 'set_config', 'sklearn', 'to_graphviz', 'tracker', 'train', 'training']\n"
          ]
        }
      ]
    },
    {
      "cell_type": "code",
      "source": [
        "import sklearn\n",
        "print(dir(sklearn))"
      ],
      "metadata": {
        "colab": {
          "base_uri": "https://localhost:8080/"
        },
        "id": "QknujHiaGRTP",
        "outputId": "3c151ce0-b8d7-498b-90a9-ab0b695a02d8"
      },
      "execution_count": 8,
      "outputs": [
        {
          "output_type": "stream",
          "name": "stdout",
          "text": [
            "['__SKLEARN_SETUP__', '__all__', '__builtins__', '__cached__', '__check_build', '__doc__', '__file__', '__loader__', '__name__', '__package__', '__path__', '__spec__', '__version__', '_config', '_distributor_init', 'base', 'clone', 'config_context', 'exceptions', 'externals', 'get_config', 'logger', 'logging', 'os', 'random', 'set_config', 'setup_module', 'show_versions', 'sys', 'utils']\n"
          ]
        }
      ]
    },
    {
      "cell_type": "code",
      "source": [
        "import sklearn\n",
        "print(sklearn.__all__)"
      ],
      "metadata": {
        "colab": {
          "base_uri": "https://localhost:8080/"
        },
        "id": "DnqJGYiwKrTF",
        "outputId": "2f32da51-2363-4ebb-d3be-5c4779e45dff"
      },
      "execution_count": 10,
      "outputs": [
        {
          "output_type": "stream",
          "name": "stdout",
          "text": [
            "['calibration', 'cluster', 'covariance', 'cross_decomposition', 'datasets', 'decomposition', 'dummy', 'ensemble', 'exceptions', 'experimental', 'externals', 'feature_extraction', 'feature_selection', 'gaussian_process', 'inspection', 'isotonic', 'kernel_approximation', 'kernel_ridge', 'linear_model', 'manifold', 'metrics', 'mixture', 'model_selection', 'multiclass', 'multioutput', 'naive_bayes', 'neighbors', 'neural_network', 'pipeline', 'preprocessing', 'random_projection', 'semi_supervised', 'svm', 'tree', 'discriminant_analysis', 'impute', 'compose', 'clone', 'get_config', 'set_config', 'config_context', 'show_versions']\n"
          ]
        }
      ]
    },
    {
      "cell_type": "code",
      "source": [
        "import sklearn\n",
        "for i in range(len(sklearn.__all__)):\n",
        "  print(sklearn.__all__[i])"
      ],
      "metadata": {
        "colab": {
          "base_uri": "https://localhost:8080/"
        },
        "id": "HxfP0cn7D6Ne",
        "outputId": "43a6dd8c-4070-4dd2-adfb-b4e433b1774c"
      },
      "execution_count": 7,
      "outputs": [
        {
          "output_type": "stream",
          "name": "stdout",
          "text": [
            "calibration\n",
            "cluster\n",
            "covariance\n",
            "cross_decomposition\n",
            "datasets\n",
            "decomposition\n",
            "dummy\n",
            "ensemble\n",
            "exceptions\n",
            "experimental\n",
            "externals\n",
            "feature_extraction\n",
            "feature_selection\n",
            "gaussian_process\n",
            "inspection\n",
            "isotonic\n",
            "kernel_approximation\n",
            "kernel_ridge\n",
            "linear_model\n",
            "manifold\n",
            "metrics\n",
            "mixture\n",
            "model_selection\n",
            "multiclass\n",
            "multioutput\n",
            "naive_bayes\n",
            "neighbors\n",
            "neural_network\n",
            "pipeline\n",
            "preprocessing\n",
            "random_projection\n",
            "semi_supervised\n",
            "svm\n",
            "tree\n",
            "discriminant_analysis\n",
            "impute\n",
            "compose\n",
            "clone\n",
            "get_config\n",
            "set_config\n",
            "config_context\n",
            "show_versions\n"
          ]
        }
      ]
    },
    {
      "cell_type": "markdown",
      "source": [
        "# 주의사항\n",
        "- import가 먼저 선행되어야 합니다!"
      ],
      "metadata": {
        "id": "hmMm2QdMQ648"
      }
    },
    {
      "cell_type": "code",
      "source": [
        "print(sklearn.preprocessing.__all__)"
      ],
      "metadata": {
        "colab": {
          "base_uri": "https://localhost:8080/",
          "height": 174
        },
        "id": "LWKLmBTEFO4T",
        "outputId": "3f55c781-471e-4220-8b8d-aee23d1fc9c0"
      },
      "execution_count": 2,
      "outputs": [
        {
          "output_type": "error",
          "ename": "NameError",
          "evalue": "ignored",
          "traceback": [
            "\u001b[0;31m---------------------------------------------------------------------------\u001b[0m",
            "\u001b[0;31mNameError\u001b[0m                                 Traceback (most recent call last)",
            "\u001b[0;32m<ipython-input-2-6c99eafb211d>\u001b[0m in \u001b[0;36m<cell line: 1>\u001b[0;34m()\u001b[0m\n\u001b[0;32m----> 1\u001b[0;31m \u001b[0mprint\u001b[0m\u001b[0;34m(\u001b[0m\u001b[0msklearn\u001b[0m\u001b[0;34m.\u001b[0m\u001b[0mpreprocessing\u001b[0m\u001b[0;34m.\u001b[0m\u001b[0m__all__\u001b[0m\u001b[0;34m)\u001b[0m\u001b[0;34m\u001b[0m\u001b[0;34m\u001b[0m\u001b[0m\n\u001b[0m",
            "\u001b[0;31mNameError\u001b[0m: name 'sklearn' is not defined"
          ]
        }
      ]
    },
    {
      "cell_type": "code",
      "source": [
        "import sklearn.preprocessing\n",
        "print(sklearn.preprocessing.__all__)"
      ],
      "metadata": {
        "colab": {
          "base_uri": "https://localhost:8080/"
        },
        "id": "fBNNLKQJMM1S",
        "outputId": "1edae0ba-3a72-448b-8c0b-2c3c65ddfe18"
      },
      "execution_count": 3,
      "outputs": [
        {
          "output_type": "stream",
          "name": "stdout",
          "text": [
            "['Binarizer', 'FunctionTransformer', 'KBinsDiscretizer', 'KernelCenterer', 'LabelBinarizer', 'LabelEncoder', 'MultiLabelBinarizer', 'MinMaxScaler', 'MaxAbsScaler', 'QuantileTransformer', 'Normalizer', 'OneHotEncoder', 'OrdinalEncoder', 'PowerTransformer', 'RobustScaler', 'SplineTransformer', 'StandardScaler', 'add_dummy_feature', 'PolynomialFeatures', 'binarize', 'normalize', 'scale', 'robust_scale', 'maxabs_scale', 'minmax_scale', 'label_binarize', 'quantile_transform', 'power_transform']\n"
          ]
        }
      ]
    },
    {
      "cell_type": "markdown",
      "source": [
        "# 패키지 모음"
      ],
      "metadata": {
        "id": "xJb_mZb0Q1bE"
      }
    },
    {
      "cell_type": "code",
      "source": [
        "from sklearn.preprocessing import StandardScaler\n",
        "from sklearn.cluster import KMeans\n",
        "from sklearn.model_selection import train_test_split\n",
        "from sklearn.metrics import roc_auc_score, f1_score\n",
        "from sklearn.model_selection import GridSearchCV\n",
        "from sklearn.model_selection import KFold\n",
        "from sklearn.linear_model import LogisticRegression\n",
        "from sklearn.tree import DecisionTreeClassifier\n",
        "from sklearn.ensemble import RandomForestClassifier\n",
        "from sklearn.neighbors import KNeighborsClassifier\n",
        "from xgboost import XGBClassifier\n",
        "from lightgbm import LGBMClassifier"
      ],
      "metadata": {
        "id": "QInDnyC6MM3o"
      },
      "execution_count": null,
      "outputs": []
    }
  ]
}